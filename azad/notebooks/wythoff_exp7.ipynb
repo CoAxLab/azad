{
 "cells": [
  {
   "cell_type": "markdown",
   "metadata": {},
   "source": [
    "# Analysis - exp7\n",
    "\n",
    "A wythoff stumbler-strategist hyper-parameter search."
   ]
  },
  {
   "cell_type": "code",
   "execution_count": 2,
   "metadata": {
    "collapsed": true
   },
   "outputs": [],
   "source": [
    "import os\n",
    "import csv\n",
    "import numpy as np\n",
    "import torch as th\n",
    "\n",
    "from glob import glob\n",
    "from pprint import pprint\n",
    "\n",
    "import matplotlib.pyplot as plt\n",
    "%matplotlib inline"
   ]
  },
  {
   "cell_type": "code",
   "execution_count": 3,
   "metadata": {
    "collapsed": false
   },
   "outputs": [
    {
     "data": {
      "text/plain": [
       "['/Users/type/Code/azad/data/wythoff/exp7/run_0.pkl',\n",
       " '/Users/type/Code/azad/data/wythoff/exp7/run_1.pkl',\n",
       " '/Users/type/Code/azad/data/wythoff/exp7/run_10.pkl',\n",
       " '/Users/type/Code/azad/data/wythoff/exp7/run_11.pkl',\n",
       " '/Users/type/Code/azad/data/wythoff/exp7/run_12.pkl',\n",
       " '/Users/type/Code/azad/data/wythoff/exp7/run_13.pkl',\n",
       " '/Users/type/Code/azad/data/wythoff/exp7/run_14.pkl',\n",
       " '/Users/type/Code/azad/data/wythoff/exp7/run_15.pkl',\n",
       " '/Users/type/Code/azad/data/wythoff/exp7/run_16.pkl',\n",
       " '/Users/type/Code/azad/data/wythoff/exp7/run_17.pkl']"
      ]
     },
     "execution_count": 3,
     "metadata": {},
     "output_type": "execute_result"
    }
   ],
   "source": [
    "# Find the files\n",
    "path = \"/Users/type/Code/azad/data/wythoff/exp7/\"\n",
    "results_path = \"/Users/type/Code/azad/data/wythoff/\"\n",
    "\n",
    "files = sorted(glob(os.path.join(path, \"run_*\")))\n",
    "files[:10]"
   ]
  },
  {
   "cell_type": "code",
   "execution_count": 4,
   "metadata": {
    "collapsed": true
   },
   "outputs": [],
   "source": [
    "model = th.load(files[0])"
   ]
  },
  {
   "cell_type": "code",
   "execution_count": 5,
   "metadata": {
    "collapsed": false
   },
   "outputs": [
    {
     "data": {
      "text/plain": [
       "dict_keys(['episode', 'epsilon', 'anneal', 'gamma', 'num_episodes', 'num_stumbles', 'num_strategies', 'influence', 'stumbler_score', 'strategist_score', 'stumbler_game', 'strategist_game', 'cold_threshold', 'hot_threshold', 'learning_rate_stumbler', 'learning_rate_strategist', 'strategist_state_dict', 'stumbler_player_dict', 'stumbler_opponent_dict'])"
      ]
     },
     "execution_count": 5,
     "metadata": {},
     "output_type": "execute_result"
    }
   ],
   "source": [
    "model.keys()"
   ]
  },
  {
   "cell_type": "code",
   "execution_count": 51,
   "metadata": {
    "collapsed": false
   },
   "outputs": [
    {
     "name": "stdout",
     "output_type": "stream",
     "text": [
      "[(0,\n",
      "  0.001,\n",
      "  100,\n",
      "  100,\n",
      "  0.6455174352938603,\n",
      "  1.007933884859085,\n",
      "  0.03900000000000003),\n",
      " (1,\n",
      "  0.001,\n",
      "  550,\n",
      "  100,\n",
      "  0.6694809279437006,\n",
      "  0.9390689060091972,\n",
      "  0.037000000000000026),\n",
      " (10,\n",
      "  0.012,\n",
      "  550,\n",
      "  100,\n",
      "  0.6781770407101076,\n",
      "  0.038248538970947266,\n",
      "  0.8760000000000006),\n",
      " (11,\n",
      "  0.012,\n",
      "  1000,\n",
      "  100,\n",
      "  0.7623251442106578,\n",
      "  0.018331795930862427,\n",
      "  0.6000000000000003),\n",
      " (12,\n",
      "  0.012,\n",
      "  100,\n",
      "  550,\n",
      "  0.7803706137867671,\n",
      "  0.17177832126617432,\n",
      "  0.7680000000000005)]\n"
     ]
    }
   ],
   "source": [
    "table = []\n",
    "for fi in files:\n",
    "    # Extract row_code\n",
    "    row_code = int(os.path.split(fi)[-1].split('_')[-1].split('.')[0])\n",
    "    \n",
    "    # load data\n",
    "    model = th.load(fi)\n",
    "    row = (\n",
    "        row_code, \n",
    "        model['learning_rate_strategist'],\n",
    "        model['num_stumbles'],\n",
    "        model['num_strategies'],\n",
    "        model['stumbler_score'],\n",
    "        model['strategist_score'],\n",
    "        model['influence']\n",
    "    )\n",
    "    table.append(row)\n",
    "    \n",
    "pprint(table[:5])"
   ]
  },
  {
   "cell_type": "code",
   "execution_count": 54,
   "metadata": {
    "collapsed": false
   },
   "outputs": [
    {
     "name": "stdout",
     "output_type": "stream",
     "text": [
      "[(45, 0.056, 100, 100, 0.6461449866811324, 0.9857491850852966, 0.0),\n",
      " (67, 0.078, 550, 550, 0.7991248143434543, 1.1113419756293297, 0.0),\n",
      " (78, 0.089, 100, 1000, 0.25748386441344945, 1.0609138906002045, 0.0),\n",
      " (79, 0.089, 550, 1000, 0.6187267052431294, 1.9253257513046265, 0.0),\n",
      " (80, 0.089, 1000, 1000, 0.7792155611316296, 1.030769258737564, 0.0)]\n"
     ]
    }
   ],
   "source": [
    "# Sort by score\n",
    "def get_score(row):\n",
    "    return row[-1]\n",
    "\n",
    "table = sorted(table, key=get_score, reverse=False)\n",
    "pprint(table[:5])"
   ]
  },
  {
   "cell_type": "markdown",
   "metadata": {},
   "source": [
    "# Plots"
   ]
  },
  {
   "cell_type": "markdown",
   "metadata": {},
   "source": [
    "## Score distributions"
   ]
  },
  {
   "cell_type": "code",
   "execution_count": 59,
   "metadata": {
    "collapsed": false
   },
   "outputs": [
    {
     "data": {
      "image/png": "[encoded data removed]",
      "text/plain": [
       "<matplotlib.figure.Figure at 0x1120dbcf8>"
      ]
     },
     "metadata": {},
     "output_type": "display_data"
    }
   ],
   "source": [
    "influence = [row[-1] for row in table]\n",
    "\n",
    "plt.figure(figsize=(3, 2))\n",
    "_ = plt.hist(influence, color='black', bins=20)\n",
    "_ = plt.tight_layout()\n",
    "_ = plt.ylabel(\"Counts\")\n",
    "_ = plt.xlabel(\"Influence\")"
   ]
  },
  {
   "cell_type": "code",
   "execution_count": 57,
   "metadata": {
    "collapsed": false
   },
   "outputs": [
    {
     "data": {
      "image/png": "[encoded data removed]",
      "text/plain": [
       "<matplotlib.figure.Figure at 0x1126f2240>"
      ]
     },
     "metadata": {},
     "output_type": "display_data"
    }
   ],
   "source": [
    "scores = [row[-2] for row in table]\n",
    "\n",
    "plt.figure(figsize=(3, 2))\n",
    "_ = plt.hist(scores, color='black', bins=20)\n",
    "_ = plt.tight_layout()\n",
    "_ = plt.ylabel(\"Counts\")\n",
    "_ = plt.xlabel(\"Strategist score\")"
   ]
  },
  {
   "cell_type": "code",
   "execution_count": 71,
   "metadata": {
    "collapsed": false
   },
   "outputs": [
    {
     "data": {
      "image/png": "[encoded data removed]",
      "text/plain": [
       "<matplotlib.figure.Figure at 0x111eedda0>"
      ]
     },
     "metadata": {},
     "output_type": "display_data"
    }
   ],
   "source": [
    "stumbler_scores = [row[-3] for row in table]\n",
    "\n",
    "plt.figure(figsize=(3, 2))\n",
    "_ = plt.hist(scores, color='black', bins=50)\n",
    "_ = plt.tight_layout()\n",
    "_ = plt.xlim(0, 1)\n",
    "_ = plt.ylabel(\"Counts\")\n",
    "_ = plt.xlabel(\"Stumbler score\")"
   ]
  },
  {
   "cell_type": "markdown",
   "metadata": {},
   "source": [
    "## Strategist as a function of other parameters"
   ]
  },
  {
   "cell_type": "code",
   "execution_count": 75,
   "metadata": {
    "collapsed": true
   },
   "outputs": [],
   "source": [
    "learning_rates = [row[1] for row in table]"
   ]
  },
  {
   "cell_type": "code",
   "execution_count": 76,
   "metadata": {
    "collapsed": false
   },
   "outputs": [
    {
     "data": {
      "image/png": "[encoded data removed]",
      "text/plain": [
       "<matplotlib.figure.Figure at 0x11208dc50>"
      ]
     },
     "metadata": {},
     "output_type": "display_data"
    }
   ],
   "source": [
    "plt.figure(figsize=(4, 2.5))\n",
    "_ = plt.scatter(learning_rates, influence, color='black', alpha=0.2, s=4)\n",
    "_ = plt.tight_layout()\n",
    "_ = plt.xlabel(\"Learning rate\")\n",
    "_ = plt.ylabel(\"Influence\")\n",
    "_ = plt.ylim(0, 1.2)"
   ]
  },
  {
   "cell_type": "code",
   "execution_count": 100,
   "metadata": {
    "collapsed": false
   },
   "outputs": [
    {
     "data": {
      "image/png": "[encoded data removed]",
      "text/plain": [
       "<matplotlib.figure.Figure at 0x1130f8a20>"
      ]
     },
     "metadata": {},
     "output_type": "display_data"
    }
   ],
   "source": [
    "plt.figure(figsize=(4, 2.5))\n",
    "_ = plt.scatter(learning_rates, scores, color='black', alpha=0.2, s=20)\n",
    "_ = plt.tight_layout()\n",
    "_ = plt.xlabel(\"Learning rate\")\n",
    "_ = plt.ylabel(\"Score\")"
   ]
  },
  {
   "cell_type": "code",
   "execution_count": 78,
   "metadata": {
    "collapsed": true
   },
   "outputs": [],
   "source": [
    "num_stumbles = [row[2] for row in table]m"
   ]
  },
  {
   "cell_type": "code",
   "execution_count": 96,
   "metadata": {
    "collapsed": false
   },
   "outputs": [
    {
     "data": {
      "image/png": "[encoded data removed]",
      "text/plain": [
       "<matplotlib.figure.Figure at 0x111ec3cc0>"
      ]
     },
     "metadata": {},
     "output_type": "display_data"
    }
   ],
   "source": [
    "plt.figure(figsize=(4, 2.5))\n",
    "_ = plt.scatter(num_stumbles, influence, color='black', alpha=0.2, s=20)\n",
    "_ = plt.tight_layout()\n",
    "_ = plt.xlabel(\"Num. stumbles\")\n",
    "_ = plt.ylabel(\"Influence\")\n",
    "_ = plt.ylim(0, 1)"
   ]
  },
  {
   "cell_type": "code",
   "execution_count": 97,
   "metadata": {
    "collapsed": false
   },
   "outputs": [
    {
     "data": {
      "image/png": "[encoded data removed]",
      "text/plain": [
       "<matplotlib.figure.Figure at 0x112dbdf60>"
      ]
     },
     "metadata": {},
     "output_type": "display_data"
    }
   ],
   "source": [
    "plt.figure(figsize=(4, 2.5))\n",
    "_ = plt.scatter(num_stumbles, scores, color='black', alpha=0.2, s=20)\n",
    "_ = plt.tight_layout()\n",
    "_ = plt.xlabel(\"Num. stumbles\")\n",
    "_ = plt.ylabel(\"Score\")"
   ]
  },
  {
   "cell_type": "code",
   "execution_count": 80,
   "metadata": {
    "collapsed": true
   },
   "outputs": [],
   "source": [
    "num_strategies = [row[3] for row in table]"
   ]
  },
  {
   "cell_type": "code",
   "execution_count": 98,
   "metadata": {
    "collapsed": false
   },
   "outputs": [
    {
     "data": {
      "image/png": "[encoded data removed]",
      "text/plain": [
       "<matplotlib.figure.Figure at 0x10c3bf8d0>"
      ]
     },
     "metadata": {},
     "output_type": "display_data"
    }
   ],
   "source": [
    "plt.figure(figsize=(4, 2.5))\n",
    "_ = plt.scatter(num_strategies, influence, color='black', alpha=0.2, s=20)\n",
    "_ = plt.tight_layout()\n",
    "_ = plt.xlabel(\"Num. strategies\")\n",
    "_ = plt.ylabel(\"Influence\")\n",
    "_ = plt.ylim(0, 1.2)"
   ]
  },
  {
   "cell_type": "code",
   "execution_count": 99,
   "metadata": {
    "collapsed": false
   },
   "outputs": [
    {
     "data": {
      "image/png": "[encoded data removed]",
      "text/plain": [
       "<matplotlib.figure.Figure at 0x1130125c0>"
      ]
     },
     "metadata": {},
     "output_type": "display_data"
    }
   ],
   "source": [
    "plt.figure(figsize=(4, 2.5))\n",
    "_ = plt.scatter(num_strategies, scores, color='black', alpha=0.2, s=20)\n",
    "_ = plt.tight_layout()\n",
    "_ = plt.xlabel(\"Num. strategies\")\n",
    "_ = plt.ylabel(\"Score\")\n",
    "_ = plt.ylim(0, 1.2)"
   ]
  },
  {
   "cell_type": "code",
   "execution_count": null,
   "metadata": {
    "collapsed": true
   },
   "outputs": [],
   "source": []
  }
 ],
 "metadata": {
  "kernelspec": {
   "display_name": "Python 3",
   "language": "python",
   "name": "python3"
  },
  "language_info": {
   "codemirror_mode": {
    "name": "ipython",
    "version": 3
   },
   "file_extension": ".py",
   "mimetype": "text/x-python",
   "name": "python",
   "nbconvert_exporter": "python",
   "pygments_lexer": "ipython3",
   "version": "3.6.0"
  }
 },
 "nbformat": 4,
 "nbformat_minor": 2
}
