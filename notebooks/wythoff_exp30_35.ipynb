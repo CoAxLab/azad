{
 "cells": [
  {
   "cell_type": "markdown",
   "metadata": {},
   "source": [
    "# Analysis - exp30-35\n",
    "\n",
    "- Parameter sensivitity testing"
   ]
  },
  {
   "cell_type": "code",
   "execution_count": null,
   "metadata": {
    "collapsed": false
   },
   "outputs": [],
   "source": [
    "import os\n",
    "import csv\n",
    "import numpy as np\n",
    "import torch as th\n",
    "\n",
    "from glob import glob\n",
    "from pprint import pprint\n",
    "\n",
    "import matplotlib.pyplot as plt\n",
    "%matplotlib inline\n",
    "%config InlineBackend.figure_format = 'retina'\n",
    "\n",
    "from notebook_helpers import load_monitored\n",
    "from notebook_helpers import join_monitored\n",
    "from notebook_helpers import score_summary\n",
    "\n",
    "def load_stumbler_data(path, index_range=(0, 20)):\n",
    "    exps = []\n",
    "    runs = range(index_range[0], index_range[1])\n",
    "    for r in runs:\n",
    "        files = sorted(glob(os.path.join(path, \n",
    "            \"run_{}_episode*_stumbler*\".format(int(r)))))\n",
    "\n",
    "        mon = join_monitored(files, sort_key='episode')\n",
    "        exps.append(mon)\n",
    "    return exps"
   ]
  },
  {
   "cell_type": "markdown",
   "metadata": {
    "collapsed": false
   },
   "source": [
    "# Load data"
   ]
  },
  {
   "cell_type": "code",
   "execution_count": null,
   "metadata": {
    "collapsed": false
   },
   "outputs": [],
   "source": [
    "path = \"/Users/type/Code/azad/data/wythoff/exp30/\"\n",
    "exp_30 = load_stumbler_data(path)\n",
    "grid_30 = np.loadtxt(os.path.join(path, \"grid.csv\"), skiprows=1, delimiter=\",\")\n",
    "\n",
    "path = \"/Users/type/Code/azad/data/wythoff/exp31/\"\n",
    "exp_31 = load_stumbler_data(path)\n",
    "grid_31 = np.loadtxt(os.path.join(path, \"grid.csv\"), skiprows=1, delimiter=\",\")\n",
    "\n",
    "path = \"/Users/type/Code/azad/data/wythoff/exp32/\"\n",
    "exp_32 = load_stumbler_data(path)\n",
    "grid_32 = np.loadtxt(os.path.join(path, \"grid.csv\"), skiprows=1, delimiter=\",\")\n",
    "\n",
    "path = \"/Users/type/Code/azad/data/wythoff/exp33\"\n",
    "exp_33 = load_stumbler_data(path, (0, 10))\n",
    "grid_33 = np.loadtxt(os.path.join(path, \"grid.csv\"), skiprows=1, delimiter=\",\")\n",
    "\n",
    "path = \"/Users/type/Code/azad/data/wythoff/exp34/\"\n",
    "exp_34 = load_stumbler_data(path, (0, 10))\n",
    "grid_34 = np.loadtxt(os.path.join(path, \"grid.csv\"), skiprows=1, delimiter=\",\")\n",
    "\n",
    "path = \"/Users/type/Code/azad/data/wythoff/exp35/\"\n",
    "exp_35 = load_stumbler_data(path)\n",
    "grid_35 = np.loadtxt(os.path.join(path, \"grid.csv\"), skiprows=1, delimiter=\",\")"
   ]
  },
  {
   "cell_type": "code",
   "execution_count": null,
   "metadata": {
    "collapsed": false
   },
   "outputs": [],
   "source": [
    "pprint(exp_30[0].keys())\n",
    "pprint(exp_31[0].keys())\n",
    "pprint(exp_32[0].keys())\n",
    "pprint(exp_33[0].keys())\n",
    "pprint(exp_34[0].keys())\n",
    "pprint(exp_35[0].keys())"
   ]
  },
  {
   "cell_type": "markdown",
   "metadata": {},
   "source": [
    "# Plots"
   ]
  },
  {
   "cell_type": "markdown",
   "metadata": {},
   "source": [
    "## Learning rates"
   ]
  },
  {
   "cell_type": "markdown",
   "metadata": {},
   "source": [
    "### Influence"
   ]
  },
  {
   "cell_type": "code",
   "execution_count": null,
   "metadata": {
    "collapsed": false
   },
   "outputs": [],
   "source": [
    "alphas = np.linspace(.4, 0.8, len(exp_30))\n",
    "plt.figure(figsize=(7, 3.5))\n",
    "\n",
    "for n, mon in enumerate(exp_30):\n",
    "    alpha = alphas[n]\n",
    "    _ = plt.plot(mon['episode'], mon['score'], color='black', alpha=alphas[n], label=label)\n",
    "\n",
    "_ = plt.tight_layout()\n",
    "_ = plt.xlabel(\"Episode\")\n",
    "_ = plt.ylabel(\"Optimal score\")\n",
    "_ = plt.ylim(0, 1)\n",
    "\n",
    "epsilons = grid_30[:, 1].flatten()\n",
    "exp_30_max = []\n",
    "for n, mon in enumerate(exp_30):\n",
    "    exp_30_max.append(np.max(mon[\"score\"][-100:-1]))\n",
    "\n",
    "plt.figure(figsize=(7, 3.5))\n",
    "_ = plt.plot(epsilons, exp_30_max, color='black')\n",
    "_ = plt.tight_layout()\n",
    "_ = plt.xlabel(\"Influence learning rate\")\n",
    "_ = plt.ylabel(\"Max score\")\n",
    "_ = plt.ylim(0, 1)"
   ]
  },
  {
   "cell_type": "markdown",
   "metadata": {
    "collapsed": true
   },
   "source": [
    "### Stumbler"
   ]
  },
  {
   "cell_type": "code",
   "execution_count": null,
   "metadata": {
    "collapsed": false
   },
   "outputs": [],
   "source": [
    "alphas = np.linspace(.4, 0.8, len(exp_31))\n",
    "plt.figure(figsize=(7, 3.5))\n",
    "\n",
    "for n, mon in enumerate(exp_31):\n",
    "    alpha = alphas[n]\n",
    "    _ = plt.plot(mon['episode'], mon['score'], color='black', alpha=alphas[n], label=label)\n",
    "\n",
    "_ = plt.tight_layout()\n",
    "_ = plt.xlabel(\"Episode\")\n",
    "_ = plt.ylabel(\"Optimal score\")\n",
    "_ = plt.ylim(0, 1)\n",
    "\n",
    "epsilons = grid_31[:, 1].flatten()\n",
    "exp_31_max = []\n",
    "for n, mon in enumerate(exp_31):\n",
    "    exp_31_max.append(np.max(mon[\"score\"][-100:-1]))\n",
    "\n",
    "plt.figure(figsize=(7, 3.5))\n",
    "_ = plt.plot(epsilons, exp_31_max, color='black')\n",
    "_ = plt.tight_layout()\n",
    "_ = plt.xlabel(\"Stumbler learning rate\")\n",
    "_ = plt.ylabel(\"Max score\")\n",
    "_ = plt.ylim(0, 1)"
   ]
  },
  {
   "cell_type": "markdown",
   "metadata": {},
   "source": [
    "### Strategist"
   ]
  },
  {
   "cell_type": "code",
   "execution_count": null,
   "metadata": {
    "collapsed": false
   },
   "outputs": [],
   "source": [
    "alphas = np.linspace(.4, 0.8, len(exp_32))\n",
    "plt.figure(figsize=(7, 3.5))\n",
    "\n",
    "for n, mon in enumerate(exp_32):\n",
    "    alpha = alphas[n]\n",
    "    _ = plt.plot(mon['episode'], mon['score'], color='black', alpha=alphas[n], label=label)\n",
    "\n",
    "_ = plt.tight_layout()\n",
    "_ = plt.xlabel(\"Episode\")\n",
    "_ = plt.ylabel(\"Optimal score\")\n",
    "_ = plt.ylim(0, 1)\n",
    "\n",
    "epsilons = grid_32[:, 1].flatten()\n",
    "exp_32_max = []\n",
    "for n, mon in enumerate(exp_32):\n",
    "    exp_32_max.append(np.max(mon[\"score\"][-100:-1]))\n",
    "\n",
    "plt.figure(figsize=(7, 3.5))\n",
    "_ = plt.plot(epsilons, exp_32_max, color='black')\n",
    "_ = plt.tight_layout()\n",
    "_ = plt.xlabel(\"Strategist learning rate\")\n",
    "_ = plt.ylabel(\"Max score\")\n",
    "_ = plt.ylim(0, 1)"
   ]
  },
  {
   "cell_type": "markdown",
   "metadata": {},
   "source": [
    "### Thresholds"
   ]
  },
  {
   "cell_type": "code",
   "execution_count": null,
   "metadata": {
    "collapsed": false
   },
   "outputs": [],
   "source": [
    "alphas = np.linspace(.4, 0.8, len(exp_33))\n",
    "plt.figure(figsize=(7, 3.5))\n",
    "\n",
    "for n, mon in enumerate(exp_33):\n",
    "    alpha = alphas[n]\n",
    "    _ = plt.plot(mon['episode'], mon['score'], color='black', alpha=alphas[n], label=label)\n",
    "\n",
    "_ = plt.tight_layout()\n",
    "_ = plt.xlabel(\"Episode\")\n",
    "_ = plt.ylabel(\"Optimal score\")\n",
    "_ = plt.ylim(0, 1)\n",
    "\n",
    "epsilons = grid_33[:, 1].flatten()\n",
    "exp_33_max = []\n",
    "for n, mon in enumerate(exp_33):\n",
    "    exp_33_max.append(np.max(mon[\"score\"][-100:-1]))\n",
    "\n",
    "plt.figure(figsize=(7, 3.5))\n",
    "_ = plt.plot(epsilons, exp_33_max, color='black')\n",
    "_ = plt.tight_layout()\n",
    "_ = plt.xlabel(\"Hot\")\n",
    "_ = plt.ylabel(\"Max score\")\n",
    "_ = plt.ylim(0, 1)"
   ]
  },
  {
   "cell_type": "code",
   "execution_count": null,
   "metadata": {
    "collapsed": false
   },
   "outputs": [],
   "source": [
    "alphas = np.linspace(.4, 0.8, len(exp_34))\n",
    "plt.figure(figsize=(7, 3.5))\n",
    "\n",
    "for n, mon in enumerate(exp_34):\n",
    "    alpha = alphas[n]\n",
    "    _ = plt.plot(mon['episode'], mon['score'], color='black', alpha=alphas[n], label=label)\n",
    "\n",
    "_ = plt.tight_layout()\n",
    "_ = plt.xlabel(\"Episode\")\n",
    "_ = plt.ylabel(\"Optimal score\")\n",
    "_ = plt.ylim(0, 1)\n",
    "\n",
    "epsilons = grid_34[:, 1].flatten()\n",
    "exp_34_max = []\n",
    "for n, mon in enumerate(exp_34):\n",
    "    exp_34_max.append(np.max(mon[\"score\"][-100:-1]))\n",
    "\n",
    "plt.figure(figsize=(7, 3.5))\n",
    "_ = plt.plot(epsilons, exp_34_max, color='black')\n",
    "_ = plt.tight_layout()\n",
    "_ = plt.xlabel(\"Cold\")\n",
    "_ = plt.ylabel(\"Max score\")\n",
    "_ = plt.ylim(0, 1)"
   ]
  },
  {
   "cell_type": "markdown",
   "metadata": {},
   "source": [
    "## Epsilon"
   ]
  },
  {
   "cell_type": "code",
   "execution_count": null,
   "metadata": {
    "collapsed": false
   },
   "outputs": [],
   "source": [
    "alphas = np.linspace(.4, 0.8, len(exp_35))\n",
    "plt.figure(figsize=(7, 3.5))\n",
    "\n",
    "for n, mon in enumerate(exp_35):\n",
    "    alpha = alphas[n]\n",
    "    _ = plt.plot(mon['episode'], mon['score'], color='black', alpha=alphas[n], label=label)\n",
    "\n",
    "_ = plt.tight_layout()\n",
    "_ = plt.xlabel(\"Episode\")\n",
    "_ = plt.ylabel(\"Optimal score\")\n",
    "_ = plt.ylim(0, 1)\n",
    "\n",
    "epsilons = grid_35[:, 1].flatten()\n",
    "exp_35_max = []\n",
    "for n, mon in enumerate(exp_35):\n",
    "    exp_35_max.append(np.max(mon[\"score\"][-100:-1]))\n",
    "\n",
    "plt.figure(figsize=(7, 3.5))\n",
    "_ = plt.plot(epsilons, exp_35_max, color='black')\n",
    "_ = plt.tight_layout()\n",
    "_ = plt.xlabel(\"Epsilon\")\n",
    "_ = plt.ylabel(\"Max score\")\n",
    "_ = plt.ylim(0, 1)"
   ]
  },
  {
   "cell_type": "code",
   "execution_count": null,
   "metadata": {
    "collapsed": true
   },
   "outputs": [],
   "source": []
  }
 ],
 "metadata": {
  "kernelspec": {
   "display_name": "Python 3",
   "language": "python",
   "name": "python3"
  },
  "language_info": {
   "codemirror_mode": {
    "name": "ipython",
    "version": 3
   },
   "file_extension": ".py",
   "mimetype": "text/x-python",
   "name": "python",
   "nbconvert_exporter": "python",
   "pygments_lexer": "ipython3",
   "version": "3.6.0"
  }
 },
 "nbformat": 4,
 "nbformat_minor": 2
}
