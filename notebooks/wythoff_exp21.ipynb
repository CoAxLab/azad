{
 "cells": [
  {
   "cell_type": "markdown",
   "metadata": {},
   "source": [
    "# Analysis - exp21\n",
    "\n",
    "Repeats of stumbler in self_play."
   ]
  },
  {
   "cell_type": "code",
   "execution_count": 1,
   "metadata": {
    "collapsed": false
   },
   "outputs": [],
   "source": [
    "import os\n",
    "import csv\n",
    "import numpy as np\n",
    "import torch as th\n",
    "\n",
    "from glob import glob\n",
    "from pprint import pprint\n",
    "\n",
    "import matplotlib.pyplot as plt\n",
    "%matplotlib inline\n",
    "%config InlineBackend.figure_format = 'retina'\n",
    "\n",
    "from notebook_helpers import load_monitored\n",
    "from notebook_helpers import join_monitored"
   ]
  },
  {
   "cell_type": "markdown",
   "metadata": {
    "collapsed": false
   },
   "source": [
    "# Find the files\n",
    "## Exp 21"
   ]
  },
  {
   "cell_type": "code",
   "execution_count": 2,
   "metadata": {
    "collapsed": true
   },
   "outputs": [],
   "source": [
    "path = \"/Users/type/Code/azad/data/wythoff/exp21/\"\n",
    "results_path = \"/Users/type/Code/azad/data/wythoff/\"\n",
    "\n",
    "files = sorted(glob(os.path.join(path, \"run_*_monitor.csv\")))\n",
    "files[:10]\n",
    "\n",
    "exp_21 = []\n",
    "for fi in files:\n",
    "    mon = load_monitored(fi)\n",
    "    exp_21.append(mon)"
   ]
  },
  {
   "cell_type": "code",
   "execution_count": 3,
   "metadata": {
    "collapsed": false
   },
   "outputs": [
    {
     "name": "stdout",
     "output_type": "stream",
     "text": [
      "dict_keys(['file', 'episode', 'loss', 'score', 'total_reward'])\n"
     ]
    }
   ],
   "source": [
    "pprint(exp_21[0].keys())"
   ]
  },
  {
   "cell_type": "code",
   "execution_count": 4,
   "metadata": {
    "collapsed": false
   },
   "outputs": [
    {
     "name": "stdout",
     "output_type": "stream",
     "text": [
      "0.8110455993795475\n"
     ]
    }
   ],
   "source": [
    "print(np.max([np.max(mon['score'][-100:-1]) for mon in exp_21]))"
   ]
  },
  {
   "cell_type": "markdown",
   "metadata": {},
   "source": [
    "# Plots"
   ]
  },
  {
   "cell_type": "markdown",
   "metadata": {},
   "source": [
    "## Optimal play"
   ]
  },
  {
   "cell_type": "code",
   "execution_count": null,
   "metadata": {
    "collapsed": false
   },
   "outputs": [],
   "source": [
    "plt.figure(figsize=(5, 2.5))\n",
    "\n",
    "for n, mon in enumerate(exp_21):\n",
    "    # Only want one legend entry\n",
    "    lab = None\n",
    "    if n == 0:\n",
    "        lab = \"Stumbler\"\n",
    "        \n",
    "    # Plot\n",
    "    _ = plt.plot(mon['episode'], mon['score'], \n",
    "                    color='grey', alpha=1,  label=lab)\n",
    "\n",
    "_ = plt.tight_layout()\n",
    "_ = plt.legend()\n",
    "_ = plt.xlabel(\"Episode\")\n",
    "_ = plt.ylabel(\"Optimal play score\")"
   ]
  },
  {
   "cell_type": "markdown",
   "metadata": {},
   "source": [
    "## Total reward"
   ]
  },
  {
   "cell_type": "code",
   "execution_count": null,
   "metadata": {
    "collapsed": false
   },
   "outputs": [],
   "source": [
    "plt.figure(figsize=(5, 2.5))\n",
    "\n",
    "for n, mon in enumerate(exp_13):\n",
    "    # Only want one legend entry\n",
    "    lab = None\n",
    "    if n == 0:\n",
    "        lab = \"Stumbler\"\n",
    "        \n",
    "    # Plot\n",
    "    _ = plt.plot(\n",
    "            mon['episode'], \n",
    "            np.asarray(mon['total_reward']),\n",
    "            color='grey', alpha=1,  label=lab\n",
    "    )\n",
    "\n",
    "for n, mon in enumerate(exp_14):\n",
    "    # Only want one legend entry\n",
    "    lab = None\n",
    "    if n == 0:\n",
    "        lab = \"Strategist\"\n",
    "    \n",
    "    # Plot\n",
    "    _ = plt.plot(\n",
    "            mon['episode'], \n",
    "            np.asarray(mon['total_reward']),\n",
    "            color='red', alpha=1, label=lab\n",
    "    )\n",
    "\n",
    "_ = plt.tight_layout()\n",
    "_ = plt.legend()\n",
    "_ = plt.xlabel(\"Episode\")\n",
    "_ = plt.ylabel(\"Total reward\")"
   ]
  },
  {
   "cell_type": "code",
   "execution_count": null,
   "metadata": {
    "collapsed": true
   },
   "outputs": [],
   "source": []
  }
 ],
 "metadata": {
  "kernelspec": {
   "display_name": "Python 3",
   "language": "python",
   "name": "python3"
  },
  "language_info": {
   "codemirror_mode": {
    "name": "ipython",
    "version": 3
   },
   "file_extension": ".py",
   "mimetype": "text/x-python",
   "name": "python",
   "nbconvert_exporter": "python",
   "pygments_lexer": "ipython3",
   "version": "3.6.0"
  }
 },
 "nbformat": 4,
 "nbformat_minor": 2
}
