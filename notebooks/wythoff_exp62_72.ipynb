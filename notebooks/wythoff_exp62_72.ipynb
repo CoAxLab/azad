{
 "cells": [
  {
   "cell_type": "markdown",
   "metadata": {},
   "source": [
    "# Analysis - exp62 - 72, or more\n",
    "\n",
    "- Have run a few tuning experiments for the `(s,a) -> v` representation of wythoffs.\n",
    "- In this notebook I compare the best of these head to head."
   ]
  },
  {
   "cell_type": "code",
   "execution_count": 1,
   "metadata": {},
   "outputs": [],
   "source": [
    "import os\n",
    "import csv\n",
    "\n",
    "import optuna\n",
    "import torch \n",
    "import torch.nn as nn\n",
    "import torch.nn.functional as F\n",
    "import torch.optim as optim\n",
    "import torch.utils.data\n",
    "from torchvision import datasets\n",
    "from torchvision import transforms\n",
    "\n",
    "import numpy as np\n",
    "import pandas as pd\n",
    "\n",
    "from glob import glob\n",
    "from pprint import pprint\n",
    "from copy import deepcopy\n",
    "\n",
    "import matplotlib\n",
    "import matplotlib.pyplot as plt\n",
    "\n",
    "%matplotlib inline\n",
    "%config InlineBackend.figure_format = 'retina'\n",
    "\n",
    "import seaborn as sns\n",
    "sns.set(font_scale=1.5)\n",
    "sns.set_style('ticks')\n",
    "\n",
    "matplotlib.rcParams.update({'font.size': 16})\n",
    "matplotlib.rc('axes', titlesize=16)\n",
    "\n",
    "from notebook_helpers import load_params\n",
    "from notebook_helpers import load_monitored\n",
    "from notebook_helpers import join_monitored\n",
    "from notebook_helpers import score_summary\n",
    "\n",
    "def load_data(path, model, run_index=None):\n",
    "    runs = range(run_index[0], run_index[1]+1)\n",
    "    exps = []\n",
    "    for r in runs:\n",
    "        file = os.path.join(path, f\"run_{model}_{r}_monitor.csv\".format(int(r)))\n",
    "        try:\n",
    "            mon = load_monitored(file)\n",
    "        except FileNotFoundError:\n",
    "            mon = None\n",
    "        exps.append(mon)\n",
    "    return exps\n",
    "\n",
    "def load_hp(name):\n",
    "    return pd.read_csv(name, index_col=False)\n",
    "\n",
    "def find_best(hp, data, window, score=\"score\"):\n",
    "    scores = []\n",
    "    for r, mon in enumerate(data):\n",
    "        if mon is not None:\n",
    "            full = mon[score]\n",
    "            selected = full[window[0]:window[1]]\n",
    "            x = np.mean(selected)\n",
    "            scores.append(x)\n",
    "        else:\n",
    "            scores.append(np.nan)\n",
    "    best = np.nanargmax(scores)\n",
    "\n",
    "    return scores[best], hp[best:best+1]\n",
    "\n",
    "def find_worst(hp, data, window, score=\"score\"):\n",
    "    scores = []\n",
    "    for r, mon in enumerate(data):\n",
    "        if mon is not None:\n",
    "            full = mon[score]\n",
    "            selected = full[window[0]:window[1]]\n",
    "            x = np.mean(selected)\n",
    "            scores.append(x)\n",
    "        else:\n",
    "            scores.append(np.nan)\n",
    "    best = np.nanargmin(scores)\n",
    "    return scores[worst], hp[best:best+1]"
   ]
  },
  {
   "cell_type": "markdown",
   "metadata": {},
   "source": [
    "# HP"
   ]
  },
  {
   "cell_type": "markdown",
   "metadata": {},
   "source": [
    "## Grid search\n",
    "\n",
    "- exp68 as the best. "
   ]
  },
  {
   "cell_type": "code",
   "execution_count": 2,
   "metadata": {},
   "outputs": [
    {
     "name": "stdout",
     "output_type": "stream",
     "text": [
      "DQN_xy1 - 0.29417067320374646:\n",
      "     row_code  device_code  epsilon  gamma  learning_rate\n",
      "189       189            1      0.1    0.4        0.19949\n",
      "---\n",
      "DQN_xy2 - 0.22569482901968993:\n",
      "    row_code  device_code  epsilon  gamma  learning_rate\n",
      "25        25            1      0.1    0.1       0.128776\n",
      "---\n",
      "DQN_xy3 - 0.3995033689945446:\n",
      "     row_code  device_code  epsilon  gamma  learning_rate\n",
      "155       155            3      0.1    0.4       0.027755\n",
      "---\n",
      "DQN_xy4 - 0.3035457374237523:\n",
      "    row_code  device_code  epsilon  gamma  learning_rate\n",
      "85        85            1      0.1    0.2       0.179286\n",
      "---\n",
      "DQN_xy5 - 0.16227355079411332:\n",
      "    row_code  device_code  epsilon  gamma  learning_rate\n",
      "35        35            3      0.1    0.1       0.179286\n",
      "---\n"
     ]
    }
   ],
   "source": [
    "path = \"/Users/qualia/Code/azad/data/wythoff/exp68/\"\n",
    "hp = load_hp(os.path.join(path,\"grid.csv\"))\n",
    "\n",
    "# Find the best model + hp\n",
    "models = [\"DQN_xy1\", \"DQN_xy2\", \"DQN_xy3\", \"DQN_xy4\", \"DQN_xy5\"]\n",
    "index = (0, 250)\n",
    "for model in models:\n",
    "    data = load_data(path, model, run_index=index)\n",
    "    score, best_hp = find_best(hp, data, (200,250))\n",
    "    print(f\"{model} - {score}:\\n{best_hp}\\n---\")"
   ]
  },
  {
   "cell_type": "markdown",
   "metadata": {},
   "source": [
    "## Optuna\n",
    "\n",
    "- exp71 was the best"
   ]
  },
  {
   "cell_type": "code",
   "execution_count": 3,
   "metadata": {},
   "outputs": [],
   "source": [
    "path = \"/Users/qualia/Code/azad/data/wythoff/exp71/\"\n",
    "\n",
    "# Load the optuna study object, and extract the interesting bits\n",
    "study = torch.load(os.path.join(path, \"run_0.torch\"))"
   ]
  },
  {
   "cell_type": "code",
   "execution_count": 4,
   "metadata": {},
   "outputs": [
    {
     "data": {
      "text/html": [
       "<div>\n",
       "<style scoped>\n",
       "    .dataframe tbody tr th:only-of-type {\n",
       "        vertical-align: middle;\n",
       "    }\n",
       "\n",
       "    .dataframe tbody tr th {\n",
       "        vertical-align: top;\n",
       "    }\n",
       "\n",
       "    .dataframe thead th {\n",
       "        text-align: right;\n",
       "    }\n",
       "</style>\n",
       "<table border=\"1\" class=\"dataframe\">\n",
       "  <thead>\n",
       "    <tr style=\"text-align: right;\">\n",
       "      <th></th>\n",
       "      <th>number</th>\n",
       "      <th>value</th>\n",
       "      <th>datetime_start</th>\n",
       "      <th>datetime_complete</th>\n",
       "      <th>duration</th>\n",
       "      <th>params_0</th>\n",
       "      <th>params_1</th>\n",
       "      <th>params_2</th>\n",
       "      <th>params_3</th>\n",
       "      <th>params_4</th>\n",
       "      <th>params_5</th>\n",
       "      <th>params_epsilon</th>\n",
       "      <th>params_gamma</th>\n",
       "      <th>params_learning_rate</th>\n",
       "      <th>params_n_layers</th>\n",
       "      <th>state</th>\n",
       "    </tr>\n",
       "  </thead>\n",
       "  <tbody>\n",
       "    <tr>\n",
       "      <th>97</th>\n",
       "      <td>97</td>\n",
       "      <td>0.281767</td>\n",
       "      <td>2020-05-16 22:28:48.427779</td>\n",
       "      <td>2020-05-16 22:36:20.469986</td>\n",
       "      <td>00:07:32.042207</td>\n",
       "      <td>10</td>\n",
       "      <td>11</td>\n",
       "      <td>13.0</td>\n",
       "      <td>NaN</td>\n",
       "      <td>NaN</td>\n",
       "      <td>NaN</td>\n",
       "      <td>0.333343</td>\n",
       "      <td>0.273944</td>\n",
       "      <td>0.496927</td>\n",
       "      <td>3</td>\n",
       "      <td>COMPLETE</td>\n",
       "    </tr>\n",
       "    <tr>\n",
       "      <th>73</th>\n",
       "      <td>73</td>\n",
       "      <td>0.276478</td>\n",
       "      <td>2020-05-16 21:15:07.837851</td>\n",
       "      <td>2020-05-16 21:22:01.429304</td>\n",
       "      <td>00:06:53.591453</td>\n",
       "      <td>11</td>\n",
       "      <td>15</td>\n",
       "      <td>16.0</td>\n",
       "      <td>NaN</td>\n",
       "      <td>NaN</td>\n",
       "      <td>NaN</td>\n",
       "      <td>0.516314</td>\n",
       "      <td>0.209535</td>\n",
       "      <td>0.468971</td>\n",
       "      <td>3</td>\n",
       "      <td>COMPLETE</td>\n",
       "    </tr>\n",
       "    <tr>\n",
       "      <th>4</th>\n",
       "      <td>4</td>\n",
       "      <td>0.273191</td>\n",
       "      <td>2020-05-16 17:51:18.289815</td>\n",
       "      <td>2020-05-16 21:08:59.333185</td>\n",
       "      <td>03:17:41.043370</td>\n",
       "      <td>11</td>\n",
       "      <td>15</td>\n",
       "      <td>18.0</td>\n",
       "      <td>18.0</td>\n",
       "      <td>NaN</td>\n",
       "      <td>NaN</td>\n",
       "      <td>0.367524</td>\n",
       "      <td>0.400472</td>\n",
       "      <td>0.482889</td>\n",
       "      <td>4</td>\n",
       "      <td>COMPLETE</td>\n",
       "    </tr>\n",
       "    <tr>\n",
       "      <th>47</th>\n",
       "      <td>47</td>\n",
       "      <td>0.268082</td>\n",
       "      <td>2020-05-16 19:33:18.374437</td>\n",
       "      <td>2020-05-16 19:43:02.133144</td>\n",
       "      <td>00:09:43.758707</td>\n",
       "      <td>20</td>\n",
       "      <td>20</td>\n",
       "      <td>20.0</td>\n",
       "      <td>20.0</td>\n",
       "      <td>NaN</td>\n",
       "      <td>NaN</td>\n",
       "      <td>0.396098</td>\n",
       "      <td>0.223608</td>\n",
       "      <td>0.446777</td>\n",
       "      <td>4</td>\n",
       "      <td>COMPLETE</td>\n",
       "    </tr>\n",
       "    <tr>\n",
       "      <th>70</th>\n",
       "      <td>70</td>\n",
       "      <td>0.262749</td>\n",
       "      <td>2020-05-16 21:06:35.416353</td>\n",
       "      <td>2020-05-16 21:15:07.834430</td>\n",
       "      <td>00:08:32.418077</td>\n",
       "      <td>20</td>\n",
       "      <td>20</td>\n",
       "      <td>20.0</td>\n",
       "      <td>NaN</td>\n",
       "      <td>NaN</td>\n",
       "      <td>NaN</td>\n",
       "      <td>0.356331</td>\n",
       "      <td>0.250004</td>\n",
       "      <td>0.443886</td>\n",
       "      <td>3</td>\n",
       "      <td>COMPLETE</td>\n",
       "    </tr>\n",
       "  </tbody>\n",
       "</table>\n",
       "</div>"
      ],
      "text/plain": [
       "    number     value             datetime_start          datetime_complete  \\\n",
       "97      97  0.281767 2020-05-16 22:28:48.427779 2020-05-16 22:36:20.469986   \n",
       "73      73  0.276478 2020-05-16 21:15:07.837851 2020-05-16 21:22:01.429304   \n",
       "4        4  0.273191 2020-05-16 17:51:18.289815 2020-05-16 21:08:59.333185   \n",
       "47      47  0.268082 2020-05-16 19:33:18.374437 2020-05-16 19:43:02.133144   \n",
       "70      70  0.262749 2020-05-16 21:06:35.416353 2020-05-16 21:15:07.834430   \n",
       "\n",
       "          duration  params_0  params_1  params_2  params_3  params_4  \\\n",
       "97 00:07:32.042207        10        11      13.0       NaN       NaN   \n",
       "73 00:06:53.591453        11        15      16.0       NaN       NaN   \n",
       "4  03:17:41.043370        11        15      18.0      18.0       NaN   \n",
       "47 00:09:43.758707        20        20      20.0      20.0       NaN   \n",
       "70 00:08:32.418077        20        20      20.0       NaN       NaN   \n",
       "\n",
       "    params_5  params_epsilon  params_gamma  params_learning_rate  \\\n",
       "97       NaN        0.333343      0.273944              0.496927   \n",
       "73       NaN        0.516314      0.209535              0.468971   \n",
       "4        NaN        0.367524      0.400472              0.482889   \n",
       "47       NaN        0.396098      0.223608              0.446777   \n",
       "70       NaN        0.356331      0.250004              0.443886   \n",
       "\n",
       "    params_n_layers     state  \n",
       "97                3  COMPLETE  \n",
       "73                3  COMPLETE  \n",
       "4                 4  COMPLETE  \n",
       "47                4  COMPLETE  \n",
       "70                3  COMPLETE  "
      ]
     },
     "execution_count": 4,
     "metadata": {},
     "output_type": "execute_result"
    }
   ],
   "source": [
    "study.trials_dataframe().sort_values(\"value\", ascending=False).head(5)"
   ]
  },
  {
   "cell_type": "code",
   "execution_count": 5,
   "metadata": {},
   "outputs": [
    {
     "data": {
      "text/plain": [
       "0.2817669048809469"
      ]
     },
     "execution_count": 5,
     "metadata": {},
     "output_type": "execute_result"
    }
   ],
   "source": [
    "study.best_value"
   ]
  },
  {
   "cell_type": "code",
   "execution_count": 6,
   "metadata": {},
   "outputs": [
    {
     "data": {
      "text/plain": [
       "{'n_layers': 3,\n",
       " '0': 10,\n",
       " '1': 11,\n",
       " '2': 13,\n",
       " 'learning_rate': 0.4969268428262877,\n",
       " 'gamma': 0.2739438715253703,\n",
       " 'epsilon': 0.3333432601765242}"
      ]
     },
     "execution_count": 6,
     "metadata": {},
     "output_type": "execute_result"
    }
   ],
   "source": [
    "study.best_params"
   ]
  },
  {
   "cell_type": "code",
   "execution_count": 11,
   "metadata": {},
   "outputs": [],
   "source": [
    "# Build network for optuna\n",
    "in_features = 4  # Initial\n",
    "out_features = [10, 11, 13]\n",
    "layers = []\n",
    "for out_feature in out_features:\n",
    "    layers.append(nn.Linear(in_features, out_feature))\n",
    "    layers.append(nn.ReLU())\n",
    "    in_features = deepcopy(out_feature)\n",
    "\n",
    "# Output layer topo is fixed\n",
    "layers.append(nn.Linear(in_features, 1))\n",
    "\n",
    "# Define the nn\n",
    "class DQN_optuna(nn.Module):\n",
    "    def __init__(self):\n",
    "        super(DQN_optuna, self).__init__()\n",
    "        self.layers = nn.Sequential(*layers)\n",
    "\n",
    "    def forward(self, x):\n",
    "        return self.layers(x)"
   ]
  },
  {
   "cell_type": "markdown",
   "metadata": {},
   "source": [
    "# Head2Head \n",
    "\n",
    "- Compare these two best solutions on the same task and seed.  "
   ]
  },
  {
   "cell_type": "code",
   "execution_count": 31,
   "metadata": {},
   "outputs": [],
   "source": [
    "from azad.exp.alternatives import wythoff_dqn2\n",
    "seed_value = 123\n",
    "num_episodes = 1000\n",
    "game = 'Wythoff15x15'\n",
    "batch_size = 50\n",
    "memory_capacity = 1e3\n",
    "anneal = True\n",
    "update_every = 10\n",
    "double = True\n",
    "clip_grad = True\n",
    "monitor = ('episode', 'loss', 'score', 'Q', 'prediction_error', 'advantage', 'epsilon_e')"
   ]
  },
  {
   "cell_type": "markdown",
   "metadata": {},
   "source": [
    "### Run"
   ]
  },
  {
   "cell_type": "code",
   "execution_count": null,
   "metadata": {},
   "outputs": [],
   "source": [
    "# Grid\n",
    "result1 = wythoff_dqn2(\n",
    "    epsilon=0.1,\n",
    "    gamma=0.4,\n",
    "    learning_rate=0.027755,\n",
    "    game=game,\n",
    "    num_episodes=num_episodes,\n",
    "    batch_size=batch_size,\n",
    "    memory_capacity=memory_capacity,\n",
    "    network='DQN_xy3',\n",
    "    anneal=anneal,\n",
    "    update_every=update_every,\n",
    "    double=double,\n",
    "    clip_grad=clip_grad,\n",
    "    seed=seed_value,\n",
    "    monitor=monitor\n",
    ")"
   ]
  },
  {
   "cell_type": "code",
   "execution_count": null,
   "metadata": {},
   "outputs": [],
   "source": [
    "# Optuna\n",
    "result2 = wythoff_dqn2(\n",
    "    epsilon=0.33,\n",
    "    gamma=0.27,\n",
    "    learning_rate=0.49,\n",
    "    game=game,\n",
    "    num_episodes=num_episodes,\n",
    "    batch_size=batch_size,\n",
    "    memory_capacity=memory_capacity,\n",
    "    network=DQN_optuna,\n",
    "    anneal=anneal,\n",
    "    update_every=update_every,\n",
    "    double=double,\n",
    "    clip_grad=clip_grad,\n",
    "    seed=seed_value,\n",
    "    monitor=monitor,\n",
    ")"
   ]
  },
  {
   "cell_type": "markdown",
   "metadata": {},
   "source": [
    "### Visualize"
   ]
  },
  {
   "cell_type": "code",
   "execution_count": null,
   "metadata": {},
   "outputs": [],
   "source": [
    "# ---\n",
    "mon = result1[\"monitored\"]\n",
    "fig, ax1 = plt.subplots(figsize=(8,3))\n",
    "_ = ax1.plot(mon['episode'], mon['score'], color='red', alpha=1)\n",
    "_ = plt.title(f\"Result 1 - {np.max(mon['score']).round(2)}\")\n",
    "_ = ax1.set_ylabel(\"Optimal score\", color=\"red\")\n",
    "_ = ax1.set_xlabel(\"Episode\")\n",
    "_ = ax1.set_ylim(0, 1)\n",
    "\n",
    "_ = ax2 = ax1.twinx()                      \n",
    "_ = ax2.plot(mon['episode'], np.log10(mon['loss']), color='black', alpha=1)\n",
    "_ = ax2.tick_params(axis='y')             \n",
    "_ = ax2.set_ylabel('log10(loss)', color=\"black\")\n",
    "sns.despine()\n",
    "             \n",
    "# ---              \n",
    "mon = result2[\"monitored\"]\n",
    "fig, ax1 = plt.subplots(figsize=(8,3))\n",
    "_ = ax1.plot(mon['episode'], mon['score'], color='red', alpha=1)\n",
    "_ = plt.title(f\"Result 2 - {np.max(mon['score']).round(2)}\")\n",
    "_ = ax1.set_ylabel(\"Optimal score\", color=\"red\")\n",
    "_ = ax1.set_xlabel(\"Episode\")\n",
    "_ = ax1.set_ylim(0, 1)\n",
    "\n",
    "_ = ax2 = ax1.twinx()                      \n",
    "_ = ax2.plot(mon['episode'], np.log10(mon['loss']), color='black', alpha=1)\n",
    "_ = ax2.tick_params(axis='y')             \n",
    "_ = ax2.set_ylabel('log10(loss)', color=\"black\")\n",
    "sns.despine()"
   ]
  },
  {
   "cell_type": "code",
   "execution_count": null,
   "metadata": {},
   "outputs": [],
   "source": []
  }
 ],
 "metadata": {
  "kernelspec": {
   "display_name": "Python 3",
   "language": "python",
   "name": "python3"
  },
  "language_info": {
   "codemirror_mode": {
    "name": "ipython",
    "version": 3
   },
   "file_extension": ".py",
   "mimetype": "text/x-python",
   "name": "python",
   "nbconvert_exporter": "python",
   "pygments_lexer": "ipython3",
   "version": "3.6.7"
  }
 },
 "nbformat": 4,
 "nbformat_minor": 2
}
