{
 "cells": [
  {
   "cell_type": "markdown",
   "metadata": {},
   "source": [
    "# Load ranked hyper-params and join selections\n",
    "\n",
    "### Import/init"
   ]
  },
  {
   "cell_type": "code",
   "execution_count": 3,
   "metadata": {
    "collapsed": true
   },
   "outputs": [],
   "source": [
    "import os\n",
    "import csv\n",
    "import numpy as np\n",
    "import pandas as pd\n",
    "\n",
    "\n",
    "\n",
    "import matplotlib.pyplot as plt\n",
    "%matplotlib inline\n",
    "\n",
    "from notebook_helpers import load_params"
   ]
  },
  {
   "cell_type": "code",
   "execution_count": 4,
   "metadata": {
    "collapsed": true
   },
   "outputs": [],
   "source": [
    "# Shared base path\n",
    "path = \"/Users/type/Code/azad/data/wythoff/\""
   ]
  },
  {
   "cell_type": "markdown",
   "metadata": {},
   "source": [
    "### Load param data"
   ]
  },
  {
   "cell_type": "code",
   "execution_count": 5,
   "metadata": {
    "collapsed": false
   },
   "outputs": [],
   "source": [
    "# Stumbler \n",
    "exp6 = load_params(os.path.join(path, \"exp6_ranked.csv\"))"
   ]
  },
  {
   "cell_type": "code",
   "execution_count": 6,
   "metadata": {
    "collapsed": false
   },
   "outputs": [],
   "source": [
    "# Stumbler-strategist\n",
    "# learning_rate_stumbler, num_stumbles, num_strategies\n",
    "exp7 = load_params(os.path.join(path, \"exp7_ranked.csv\"))\n",
    "\n",
    "# H/C thresholds\n",
    "exp8 = load_params(os.path.join(path, \"exp8_ranked.csv\"))\n",
    "\n",
    "# learning_rate_influence, num_hidden1, num_hidden2\n",
    "exp12 = load_params(os.path.join(path, \"exp12_ranked.csv\"))"
   ]
  },
  {
   "cell_type": "code",
   "execution_count": 7,
   "metadata": {
    "collapsed": false
   },
   "outputs": [],
   "source": [
    "# exp6"
   ]
  },
  {
   "cell_type": "markdown",
   "metadata": {},
   "source": [
    "# Select top_n rows from hand-picked columns\n",
    "\n",
    "- Rename cols as needed so they match the `wythoff_stumbler_strategist` call signature."
   ]
  },
  {
   "cell_type": "code",
   "execution_count": 8,
   "metadata": {
    "collapsed": false
   },
   "outputs": [],
   "source": [
    "top_n = 20"
   ]
  },
  {
   "cell_type": "code",
   "execution_count": 9,
   "metadata": {
    "collapsed": false
   },
   "outputs": [
    {
     "name": "stdout",
     "output_type": "stream",
     "text": [
      "6 dict_keys(['row_code', 'gamma', 'epsilon', 'learning_rate', 'score'])\n",
      "7 dict_keys(['row_code', 'learning_rate_strategist', 'num_stumbles', 'num_strategies', 'stumbler_score', 'strategist_score', 'influence'])\n",
      "8 dict_keys(['row_code', 'hot_threshold', 'cold_threshold', 'strategist_score', 'influence'])\n",
      "12 dict_keys(['row_code', 'learning_rate', 'num_hidden1', 'num_hidden2', 'stumbler_score', 'strategist_score', 'influence'])\n"
     ]
    }
   ],
   "source": [
    "print(6, exp6.keys())\n",
    "print(7, exp7.keys())\n",
    "print(8, exp8.keys())\n",
    "print(12, exp12.keys())"
   ]
  },
  {
   "cell_type": "code",
   "execution_count": null,
   "metadata": {
    "collapsed": true
   },
   "outputs": [],
   "source": [
    "# Select params from each exp\n",
    "\n",
    "# old : new name\n",
    "exp6_cols = {\n",
    "    'gamma' : 'gamma',\n",
    "    'epsilon' : 'epsilon',\n",
    "    'learning_rate' : 'learning_rate_stumbler'    \n",
    "}\n",
    "\n",
    "exp7_cols = {\n",
    "    'learning_rate_strategist' : 'learning_rate_strategist',\n",
    "    'num_stumbles' : 'num_stumbles',\n",
    "    'num_strategies' : 'num_strategies',\n",
    "}\n",
    "\n",
    "exp8_cols = {\n",
    "    'hot_threshold' : 'hot_threshold',\n",
    "    'cold_threshold' : 'cold_threshold',\n",
    "}\n",
    "\n",
    "exp12_cols = {\n",
    "    'learning_rate' : 'learning_rate_influence',\n",
    "    'num_hidden1' : 'num_hidden1',\n",
    "    'num_hidden2' : 'num_hidden2'\n",
    "}"
   ]
  },
  {
   "cell_type": "code",
   "execution_count": null,
   "metadata": {
    "collapsed": true
   },
   "outputs": [],
   "source": [
    "joint = defaultdict(list)\n",
    "\n",
    "for k, new_k in exp6_cols.items():\n",
    "    joint[new_k] = exp6[k][0:top_n]\n",
    "    \n",
    "for k, new_k in exp7_cols.items():\n",
    "    joint[new_k] = exp7[k][0:top_n]\n",
    "    \n",
    "for k, new_k in exp8_cols.items():\n",
    "    joint[new_k] = exp8[k][0:top_n]\n",
    "\n",
    "for k, new_k in exp12_cols.items():\n",
    "    joint[new_k] = exp12[k][0:top_n]"
   ]
  },
  {
   "cell_type": "markdown",
   "metadata": {},
   "source": [
    "# Save the joint data to file"
   ]
  },
  {
   "cell_type": "code",
   "execution_count": null,
   "metadata": {
    "collapsed": false
   },
   "outputs": [],
   "source": [
    "table = []\n",
    "head = sorted(joint.keys())\n",
    "values = [joint[k] for k in head]\n",
    "f_name = os.path.join(path, \"joint_ranked.csv\")\n",
    "\n",
    "head = (\"row_code\", *head)\n",
    "with open(f_name, \"w\") as csv_file:\n",
    "    writer = csv.writer(csv_file, delimiter=',')\n",
    "    writer.writerow(head)\n",
    "    \n",
    "    for i, row in enumerate(zip(*values)):\n",
    "        writer.writerow((i, *row))"
   ]
  },
  {
   "cell_type": "markdown",
   "metadata": {},
   "source": [
    "# Plot each of the selected params"
   ]
  },
  {
   "cell_type": "code",
   "execution_count": null,
   "metadata": {
    "collapsed": false,
    "scrolled": false
   },
   "outputs": [],
   "source": [
    "for k, v in joint.items():\n",
    "    plt.figure(figsize=(3, 2))\n",
    "    _ = plt.hist(np.asarray(v), color='black', bins=10)\n",
    "    _ = plt.tight_layout()\n",
    "    _ = plt.ylabel(\"Counts\")\n",
    "    _ = plt.xlabel(k)\n",
    "#     _ = plt.close()"
   ]
  },
  {
   "cell_type": "code",
   "execution_count": null,
   "metadata": {
    "collapsed": true
   },
   "outputs": [],
   "source": []
  }
 ],
 "metadata": {
  "kernelspec": {
   "display_name": "Python 3",
   "language": "python",
   "name": "python3"
  },
  "language_info": {
   "codemirror_mode": {
    "name": "ipython",
    "version": 3
   },
   "file_extension": ".py",
   "mimetype": "text/x-python",
   "name": "python",
   "nbconvert_exporter": "python",
   "pygments_lexer": "ipython3",
   "version": "3.6.0"
  }
 },
 "nbformat": 4,
 "nbformat_minor": 2
}
