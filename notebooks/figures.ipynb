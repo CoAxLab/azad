{
 "cells": [
  {
   "cell_type": "markdown",
   "metadata": {},
   "source": [
    "# Figures\n",
    "- Network diagram (in python?)\n",
    "\n",
    "- Wythoff game play demo (in python?)\n",
    "\n",
    "- Optimal score main effect (2 panels). \n",
    "     - a. stumbler and strategist\n",
    "     - b. strategist and perfect strategist\n",
    "     \n",
    "- Control exp for heuristics and param sensitivity (optimal score)\n",
    "     - a. H,C,and HC \n",
    "     - b. TODO: add noise to hyper; noise_fn needed\n",
    "     \n",
    "- Optimal score during transfer to larger board (1 panel), 50 -> 500. \n",
    "     - a. stumbler and strategist\n",
    "  \n",
    "- Total reward during transfer to new rules (2 panels). Nim and Euclid.\n",
    "    - a. Naive nim and Nim w/ bias_board\n",
    "    - b. Naive euclid and Euclid w/ bias_board"
   ]
  },
  {
   "cell_type": "code",
   "execution_count": null,
   "metadata": {
    "collapsed": true
   },
   "outputs": [],
   "source": []
  }
 ],
 "metadata": {
  "kernelspec": {
   "display_name": "Python 3",
   "language": "python",
   "name": "python3"
  },
  "language_info": {
   "codemirror_mode": {
    "name": "ipython",
    "version": 3
   },
   "file_extension": ".py",
   "mimetype": "text/x-python",
   "name": "python",
   "nbconvert_exporter": "python",
   "pygments_lexer": "ipython3",
   "version": "3.6.0"
  }
 },
 "nbformat": 4,
 "nbformat_minor": 2
}
