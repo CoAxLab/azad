{
 "cells": [
  {
   "cell_type": "markdown",
   "metadata": {},
   "source": [
    "# Analysis - exp6\n",
    "\n",
    "A wythoff stumbler hyper-parameter search."
   ]
  },
  {
   "cell_type": "code",
   "execution_count": 2,
   "metadata": {
    "collapsed": true
   },
   "outputs": [],
   "source": [
    "import os\n",
    "import csv\n",
    "import numpy as np\n",
    "import torch as th\n",
    "\n",
    "from glob import glob\n",
    "from pprint import pprint\n",
    "\n",
    "import matplotlib.pyplot as plt\n",
    "%matplotlib inline"
   ]
  },
  {
   "cell_type": "code",
   "execution_count": 3,
   "metadata": {
    "collapsed": false
   },
   "outputs": [
    {
     "data": {
      "text/plain": [
       "['/Users/type/Code/azad/data/wythoff/exp6/run_0.pkl',\n",
       " '/Users/type/Code/azad/data/wythoff/exp6/run_1.pkl',\n",
       " '/Users/type/Code/azad/data/wythoff/exp6/run_10.pkl',\n",
       " '/Users/type/Code/azad/data/wythoff/exp6/run_100.pkl',\n",
       " '/Users/type/Code/azad/data/wythoff/exp6/run_101.pkl',\n",
       " '/Users/type/Code/azad/data/wythoff/exp6/run_102.pkl',\n",
       " '/Users/type/Code/azad/data/wythoff/exp6/run_103.pkl',\n",
       " '/Users/type/Code/azad/data/wythoff/exp6/run_104.pkl',\n",
       " '/Users/type/Code/azad/data/wythoff/exp6/run_105.pkl',\n",
       " '/Users/type/Code/azad/data/wythoff/exp6/run_106.pkl']"
      ]
     },
     "execution_count": 3,
     "metadata": {},
     "output_type": "execute_result"
    }
   ],
   "source": [
    "# Find the files\n",
    "path = \"/Users/type/Code/azad/data/wythoff/exp6/\"\n",
    "results_path = \"/Users/type/Code/azad/data/wythoff/\"\n",
    "\n",
    "files = sorted(glob(os.path.join(path, \"run_*\")))\n",
    "files[:10]"
   ]
  },
  {
   "cell_type": "code",
   "execution_count": 4,
   "metadata": {
    "collapsed": false
   },
   "outputs": [
    {
     "name": "stdout",
     "output_type": "stream",
     "text": [
      "[(0, 0.1, 1.0, 0.01, 0.4751287445824403),\n",
      " (1, 0.1, 1.0, 0.12, 0.5700107578122316),\n",
      " (10, 0.2, 1.0, 0.01, 0.5624176124864656),\n",
      " (100, 0.1, 0.9, 0.01, 0.5115844554944687),\n",
      " (101, 0.1, 0.9, 0.12, 0.600716606444242),\n",
      " (102, 0.1, 0.9, 0.23, 0.6396802460834063),\n",
      " (103, 0.1, 0.9, 0.34, 0.6625260510011927),\n",
      " (104, 0.1, 0.9, 0.45, 0.7020462222663207),\n",
      " (105, 0.1, 0.9, 0.56, 0.694530704869172),\n",
      " (106, 0.1, 0.9, 0.67, 0.724779675044916),\n",
      " (107, 0.1, 0.9, 0.78, 0.7286484634154186),\n",
      " (108, 0.1, 0.9, 0.89, 0.7402250984462282),\n",
      " (109, 0.1, 0.9, 1.0, 0.7637176188158659),\n",
      " (11, 0.2, 1.0, 0.12, 0.6614216302422705),\n",
      " (110, 0.2, 0.9, 0.01, 0.5531155546890869),\n",
      " (111, 0.2, 0.9, 0.12, 0.6535127947406565),\n",
      " (112, 0.2, 0.9, 0.23, 0.7140816524037428),\n",
      " (113, 0.2, 0.9, 0.34, 0.6813776337496182),\n",
      " (114, 0.2, 0.9, 0.45, 0.7014742433640557),\n",
      " (115, 0.2, 0.9, 0.56, 0.6869919719442005)]\n"
     ]
    }
   ],
   "source": [
    "# Process 'em\n",
    "table = []\n",
    "for fi in files:\n",
    "    # Extract row_code\n",
    "    row_code = int(os.path.split(fi)[-1].split('_')[-1].split('.')[0])\n",
    "    \n",
    "    # Load data\n",
    "    model = th.load(fi)\n",
    "    row = (\n",
    "        row_code, \n",
    "        model['gamma'], \n",
    "        model['epsilon'], \n",
    "        model['learning_rate_stumbler'],\n",
    "        model['stumbler_score']\n",
    "    ) \n",
    "    table.append(row)\n",
    "    \n",
    "pprint(table[:20])"
   ]
  },
  {
   "cell_type": "code",
   "execution_count": 5,
   "metadata": {
    "collapsed": false
   },
   "outputs": [
    {
     "name": "stdout",
     "output_type": "stream",
     "text": [
      "[(959, 0.6, 0.1, 1.0, 0.8746876102257231),\n",
      " (839, 0.4, 0.2, 1.0, 0.8607407642074675),\n",
      " (819, 0.2, 0.2, 1.0, 0.8515477737012811),\n",
      " (708, 0.1, 0.3, 0.89, 0.8503569586514474),\n",
      " (847, 0.5, 0.2, 0.78, 0.8490870580300459),\n",
      " (859, 0.6, 0.2, 1.0, 0.8485558908588772),\n",
      " (989, 0.9, 0.1, 1.0, 0.8473167983036111),\n",
      " (914, 0.2, 0.1, 0.45, 0.8471558229229742),\n",
      " (907, 0.1, 0.1, 0.78, 0.8471486617142975),\n",
      " (944, 0.5, 0.1, 0.45, 0.8466335667969408),\n",
      " (956, 0.6, 0.1, 0.67, 0.8464263488335638),\n",
      " (938, 0.4, 0.1, 0.89, 0.8463184959917635),\n",
      " (768, 0.7, 0.3, 0.89, 0.8462117860294985),\n",
      " (888, 0.9, 0.2, 0.89, 0.845041915654921),\n",
      " (757, 0.6, 0.3, 0.78, 0.8449016417168158),\n",
      " (916, 0.2, 0.1, 0.67, 0.8443202191400365),\n",
      " (808, 0.1, 0.2, 0.89, 0.8442498639629964),\n",
      " (816, 0.2, 0.2, 0.67, 0.8433831686006291),\n",
      " (737, 0.4, 0.3, 0.78, 0.8432937617108401),\n",
      " (748, 0.5, 0.3, 0.89, 0.8429944720206555)]\n"
     ]
    }
   ],
   "source": [
    "# Sort by score\n",
    "def get_score(row):\n",
    "    return row[-1]\n",
    "\n",
    "table = sorted(table, key=get_score, reverse=True)\n",
    "pprint(table[:20])"
   ]
  },
  {
   "cell_type": "code",
   "execution_count": 6,
   "metadata": {
    "collapsed": true
   },
   "outputs": [],
   "source": [
    "# Save the sorted results table\n",
    "f_name = os.path.join(results_path, \"exp6_ranked.csv\")\n",
    "head = [\"row_code\", \"gamma\", \"epsilon\", \"learning_rate\", \"score\"]\n",
    "\n",
    "with open(f_name, \"w\") as csv_file:\n",
    "    writer = csv.writer(csv_file, delimiter=',')\n",
    "    writer.writerow(head)\n",
    "    \n",
    "    for row in table:\n",
    "        writer.writerow(row)"
   ]
  },
  {
   "cell_type": "markdown",
   "metadata": {},
   "source": [
    "# Plots"
   ]
  },
  {
   "cell_type": "markdown",
   "metadata": {},
   "source": [
    "## Dist. of scores"
   ]
  },
  {
   "cell_type": "code",
   "execution_count": 7,
   "metadata": {
    "collapsed": false
   },
   "outputs": [
    {
     "data": {
      "image/png": "[encoded data removed]",
      "text/plain": [
       "<matplotlib.figure.Figure at 0x116d74f98>"
      ]
     },
     "metadata": {},
     "output_type": "display_data"
    }
   ],
   "source": [
    "scores = [row[4] for row in table]\n",
    "\n",
    "plt.figure(figsize=(3, 2))\n",
    "_ = plt.hist(scores, color='black', bins=20)\n",
    "_ = plt.tight_layout()\n",
    "_ = plt.xlim(0, 1)\n",
    "_ = plt.ylabel(\"Counts\")\n",
    "_ = plt.xlabel(\"Score\")"
   ]
  },
  {
   "cell_type": "markdown",
   "metadata": {},
   "source": [
    "## Scores as a fn of other parameters"
   ]
  },
  {
   "cell_type": "code",
   "execution_count": 8,
   "metadata": {
    "collapsed": true
   },
   "outputs": [],
   "source": [
    "learning_rates = [row[3] for row in table]"
   ]
  },
  {
   "cell_type": "code",
   "execution_count": 19,
   "metadata": {
    "collapsed": false
   },
   "outputs": [
    {
     "data": {
      "image/png": "[encoded data removed]",
      "text/plain": [
       "<matplotlib.figure.Figure at 0x116caa358>"
      ]
     },
     "metadata": {},
     "output_type": "display_data"
    }
   ],
   "source": [
    "plt.figure(figsize=(2.5, 2.5))\n",
    "_ = plt.scatter(learning_rates, scores, color='black', alpha=0.1, s=2)\n",
    "_ = plt.tight_layout()\n",
    "_ = plt.xlabel(\"Learning rate\")\n",
    "_ = plt.ylabel(\"Final optimal play\")\n",
    "_ = plt.ylim(0, 1)"
   ]
  },
  {
   "cell_type": "code",
   "execution_count": 10,
   "metadata": {
    "collapsed": true
   },
   "outputs": [],
   "source": [
    "epsilons = [row[2] for row in table]"
   ]
  },
  {
   "cell_type": "code",
   "execution_count": 21,
   "metadata": {
    "collapsed": false
   },
   "outputs": [
    {
     "data": {
      "image/png": "[encoded data removed]",
      "text/plain": [
       "<matplotlib.figure.Figure at 0x115281518>"
      ]
     },
     "metadata": {},
     "output_type": "display_data"
    }
   ],
   "source": [
    "plt.figure(figsize=(2.5, 2.5))\n",
    "_ = plt.scatter(epsilons, scores, color='black', alpha=0.1, s=2)\n",
    "_ = plt.tight_layout()\n",
    "_ = plt.xlabel(\"Epsilon\")\n",
    "_ = plt.ylabel(\"Final optimal play\")\n",
    "_ = plt.ylim(0, 1)"
   ]
  },
  {
   "cell_type": "code",
   "execution_count": 12,
   "metadata": {
    "collapsed": true
   },
   "outputs": [],
   "source": [
    "gammas = [row[1] for row in table]"
   ]
  },
  {
   "cell_type": "code",
   "execution_count": 20,
   "metadata": {
    "collapsed": false
   },
   "outputs": [
    {
     "data": {
      "image/png": "[encoded data removed]",
      "text/plain": [
       "<matplotlib.figure.Figure at 0x115a396a0>"
      ]
     },
     "metadata": {},
     "output_type": "display_data"
    }
   ],
   "source": [
    "plt.figure(figsize=(2.5, 2.5))\n",
    "_ = plt.scatter(gammas, scores, color='black', alpha=0.1, s=2)\n",
    "_ = plt.tight_layout()\n",
    "_ = plt.xlabel(\"Gamma\")\n",
    "_ = plt.ylabel(\"Final optimal play\")\n",
    "_ = plt.ylim(0, 1)"
   ]
  },
  {
   "cell_type": "code",
   "execution_count": null,
   "metadata": {
    "collapsed": true
   },
   "outputs": [],
   "source": []
  }
 ],
 "metadata": {
  "kernelspec": {
   "display_name": "Python 3",
   "language": "python",
   "name": "python3"
  },
  "language_info": {
   "codemirror_mode": {
    "name": "ipython",
    "version": 3
   },
   "file_extension": ".py",
   "mimetype": "text/x-python",
   "name": "python",
   "nbconvert_exporter": "python",
   "pygments_lexer": "ipython3",
   "version": "3.6.0"
  }
 },
 "nbformat": 4,
 "nbformat_minor": 2
}
