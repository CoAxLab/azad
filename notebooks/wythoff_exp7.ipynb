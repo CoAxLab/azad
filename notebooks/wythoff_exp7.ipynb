{
 "cells": [
  {
   "cell_type": "markdown",
   "metadata": {},
   "source": [
    "# Analysis - exp7\n",
    "\n",
    "A wythoff stumbler-strategist hyper-parameter search."
   ]
  },
  {
   "cell_type": "code",
   "execution_count": 1,
   "metadata": {
    "collapsed": true
   },
   "outputs": [],
   "source": [
    "import os\n",
    "import csv\n",
    "import numpy as np\n",
    "import torch as th\n",
    "\n",
    "from glob import glob\n",
    "from pprint import pprint\n",
    "\n",
    "import matplotlib.pyplot as plt\n",
    "%matplotlib inline"
   ]
  },
  {
   "cell_type": "code",
   "execution_count": 2,
   "metadata": {
    "collapsed": false
   },
   "outputs": [
    {
     "data": {
      "text/plain": [
       "['/Users/type/Code/azad/data/wythoff/exp7/run_0.pkl',\n",
       " '/Users/type/Code/azad/data/wythoff/exp7/run_1.pkl',\n",
       " '/Users/type/Code/azad/data/wythoff/exp7/run_10.pkl',\n",
       " '/Users/type/Code/azad/data/wythoff/exp7/run_11.pkl',\n",
       " '/Users/type/Code/azad/data/wythoff/exp7/run_12.pkl',\n",
       " '/Users/type/Code/azad/data/wythoff/exp7/run_13.pkl',\n",
       " '/Users/type/Code/azad/data/wythoff/exp7/run_14.pkl',\n",
       " '/Users/type/Code/azad/data/wythoff/exp7/run_15.pkl',\n",
       " '/Users/type/Code/azad/data/wythoff/exp7/run_16.pkl',\n",
       " '/Users/type/Code/azad/data/wythoff/exp7/run_17.pkl']"
      ]
     },
     "execution_count": 2,
     "metadata": {},
     "output_type": "execute_result"
    }
   ],
   "source": [
    "# Find the files\n",
    "path = \"/Users/type/Code/azad/data/wythoff/exp7/\"\n",
    "results_path = \"/Users/type/Code/azad/data/wythoff/\"\n",
    "\n",
    "files = sorted(glob(os.path.join(path, \"run_*\")))\n",
    "files[:10]"
   ]
  },
  {
   "cell_type": "code",
   "execution_count": 3,
   "metadata": {
    "collapsed": true
   },
   "outputs": [],
   "source": [
    "model = th.load(files[0])"
   ]
  },
  {
   "cell_type": "code",
   "execution_count": 4,
   "metadata": {
    "collapsed": false
   },
   "outputs": [
    {
     "data": {
      "text/plain": [
       "dict_keys(['episode', 'epsilon', 'anneal', 'gamma', 'num_episodes', 'num_stumbles', 'num_strategies', 'influence', 'stumbler_score', 'strategist_score', 'stumbler_game', 'strategist_game', 'cold_threshold', 'hot_threshold', 'learning_rate_stumbler', 'learning_rate_strategist', 'strategist_state_dict', 'stumbler_player_dict', 'stumbler_opponent_dict'])"
      ]
     },
     "execution_count": 4,
     "metadata": {},
     "output_type": "execute_result"
    }
   ],
   "source": [
    "model.keys()"
   ]
  },
  {
   "cell_type": "code",
   "execution_count": 5,
   "metadata": {
    "collapsed": false
   },
   "outputs": [
    {
     "name": "stdout",
     "output_type": "stream",
     "text": [
      "[(0,\n",
      "  0.001,\n",
      "  100,\n",
      "  100,\n",
      "  0.6455174352938603,\n",
      "  1.007933884859085,\n",
      "  0.03900000000000003),\n",
      " (1,\n",
      "  0.001,\n",
      "  550,\n",
      "  100,\n",
      "  0.6694809279437006,\n",
      "  0.9390689060091972,\n",
      "  0.037000000000000026),\n",
      " (10,\n",
      "  0.012,\n",
      "  550,\n",
      "  100,\n",
      "  0.6781770407101076,\n",
      "  0.038248538970947266,\n",
      "  0.8760000000000006),\n",
      " (11,\n",
      "  0.012,\n",
      "  1000,\n",
      "  100,\n",
      "  0.7623251442106578,\n",
      "  0.018331795930862427,\n",
      "  0.6000000000000003),\n",
      " (12,\n",
      "  0.012,\n",
      "  100,\n",
      "  550,\n",
      "  0.7803706137867671,\n",
      "  0.17177832126617432,\n",
      "  0.7680000000000005)]\n"
     ]
    }
   ],
   "source": [
    "table = []\n",
    "for fi in files:\n",
    "    # Extract row_code\n",
    "    row_code = int(os.path.split(fi)[-1].split('_')[-1].split('.')[0])\n",
    "    \n",
    "    # load data\n",
    "    model = th.load(fi)\n",
    "    row = (\n",
    "        row_code, \n",
    "        model['learning_rate_strategist'],\n",
    "        model['num_stumbles'],\n",
    "        model['num_strategies'],\n",
    "        model['stumbler_score'],\n",
    "        model['strategist_score'],\n",
    "        model['influence']\n",
    "    )\n",
    "    table.append(row)\n",
    "    \n",
    "pprint(table[:5])"
   ]
  },
  {
   "cell_type": "code",
   "execution_count": 6,
   "metadata": {
    "collapsed": false
   },
   "outputs": [
    {
     "name": "stdout",
     "output_type": "stream",
     "text": [
      "[(88, 0.1, 550, 1000, 0.7193251195573459, 3.314018249511719e-05, 1.0),\n",
      " (50, 0.056, 1000, 550, 0.887490289066573, 3.6716461181640625e-05, 1.0),\n",
      " (62, 0.067, 1000, 1000, 0.8723391404527798, 4.303455352783203e-05, 1.0),\n",
      " (43, 0.045, 550, 1000, 0.8614033030213881, 5.412101745605469e-05, 0.955),\n",
      " (42, 0.045, 100, 1000, 0.8185549791690666, 5.507469177246094e-05, 1.0),\n",
      " (35, 0.034, 1000, 1000, 0.7583994105327667, 6.377696990966797e-05, 1.0),\n",
      " (70, 0.078, 550, 1000, 0.8023946558357083, 7.390975952148438e-05, 1.0),\n",
      " (61, 0.067, 550, 1000, 0.864854231414298, 7.43865966796875e-05, 1.0),\n",
      " (75, 0.089, 100, 550, 0.6696693870405405, 8.356571197509766e-05, 0.911),\n",
      " (52, 0.056, 550, 1000, 0.8652746366868463, 0.0001308917999267578, 1.0),\n",
      " (49, 0.056, 550, 550, 0.7256941458487085, 0.0001443624496459961, 1.0),\n",
      " (51, 0.056, 100, 1000, 0.6580604157469966, 0.00014483928680419922, 1.0),\n",
      " (86, 0.1, 1000, 550, 0.8296798351715085, 0.00014519691467285156, 1.0),\n",
      " (39, 0.045, 100, 550, 0.7131687439901802, 0.00020140409469604492, 1.0),\n",
      " (54, 0.067, 100, 100, 0.713845824810067, 0.00021374225616455078, 1.0),\n",
      " (71, 0.078, 1000, 1000, 0.7898575696305965, 0.00021970272064208984, 0.922),\n",
      " (59, 0.067, 1000, 550, 0.8597439468373781, 0.00022852420806884766, 0.933),\n",
      " (32, 0.034, 1000, 550, 0.8202495434011947, 0.00025218725204467773, 1.0),\n",
      " (56, 0.067, 1000, 100, 0.7466520779645094, 0.0002529621124267578, 1.0),\n",
      " (34, 0.034, 550, 1000, 0.799973701930494, 0.00029861927032470703, 1.0)]\n"
     ]
    }
   ],
   "source": [
    "# Sort by score\n",
    "def get_score(row):\n",
    "    return row[-2]\n",
    "\n",
    "table = sorted(table, key=get_score, reverse=False)\n",
    "pprint(table[:20])"
   ]
  },
  {
   "cell_type": "code",
   "execution_count": 7,
   "metadata": {
    "collapsed": true
   },
   "outputs": [],
   "source": [
    "# Save the sorted results table\n",
    "f_name = os.path.join(results_path, \"exp7_ranked.csv\")\n",
    "head = (\n",
    "    \"row_code\", \n",
    "    'learning_rate_strategist',\n",
    "    'num_stumbles',\n",
    "    'num_strategies',\n",
    "    'stumbler_score',\n",
    "    'strategist_score',\n",
    "    'influence'\n",
    ")\n",
    "\n",
    "with open(f_name, \"w\") as csv_file:\n",
    "    writer = csv.writer(csv_file, delimiter=',')\n",
    "    writer.writerow(head)\n",
    "    \n",
    "    for row in table:\n",
    "        writer.writerow(row)"
   ]
  },
  {
   "cell_type": "markdown",
   "metadata": {},
   "source": [
    "# Plots"
   ]
  },
  {
   "cell_type": "markdown",
   "metadata": {},
   "source": [
    "## Score distributions"
   ]
  },
  {
   "cell_type": "code",
   "execution_count": 8,
   "metadata": {
    "collapsed": false
   },
   "outputs": [
    {
     "data": {
      "image/png": "[encoded data removed]",
      "text/plain": [
       "<matplotlib.figure.Figure at 0x1157704e0>"
      ]
     },
     "metadata": {},
     "output_type": "display_data"
    }
   ],
   "source": [
    "influence = [row[-1] for row in table]\n",
    "\n",
    "plt.figure(figsize=(3, 2))\n",
    "_ = plt.hist(influence, color='black', bins=20)\n",
    "_ = plt.tight_layout()\n",
    "_ = plt.ylabel(\"Counts\")\n",
    "_ = plt.xlabel(\"Influence\")"
   ]
  },
  {
   "cell_type": "code",
   "execution_count": 9,
   "metadata": {
    "collapsed": false
   },
   "outputs": [
    {
     "data": {
      "image/png": "[encoded data removed]",
      "text/plain": [
       "<matplotlib.figure.Figure at 0x11539acf8>"
      ]
     },
     "metadata": {},
     "output_type": "display_data"
    }
   ],
   "source": [
    "scores = [row[-2] for row in table]\n",
    "\n",
    "plt.figure(figsize=(3, 2))\n",
    "_ = plt.hist(scores, color='black', bins=20)\n",
    "_ = plt.tight_layout()\n",
    "_ = plt.ylabel(\"Counts\")\n",
    "_ = plt.xlabel(\"Strategist score\")"
   ]
  },
  {
   "cell_type": "code",
   "execution_count": 10,
   "metadata": {
    "collapsed": false
   },
   "outputs": [
    {
     "data": {
      "image/png": "[encoded data removed]",
      "text/plain": [
       "<matplotlib.figure.Figure at 0x114ad9b00>"
      ]
     },
     "metadata": {},
     "output_type": "display_data"
    }
   ],
   "source": [
    "stumbler_scores = [row[-3] for row in table]\n",
    "\n",
    "plt.figure(figsize=(3, 2))\n",
    "_ = plt.hist(scores, color='black', bins=50)\n",
    "_ = plt.tight_layout()\n",
    "_ = plt.xlim(0, 1)\n",
    "_ = plt.ylabel(\"Counts\")\n",
    "_ = plt.xlabel(\"Stumbler score\")"
   ]
  },
  {
   "cell_type": "markdown",
   "metadata": {},
   "source": [
    "## Strategist as a function of other parameters"
   ]
  },
  {
   "cell_type": "code",
   "execution_count": 11,
   "metadata": {
    "collapsed": true
   },
   "outputs": [],
   "source": [
    "learning_rates = [row[1] for row in table]"
   ]
  },
  {
   "cell_type": "code",
   "execution_count": 15,
   "metadata": {
    "collapsed": false
   },
   "outputs": [
    {
     "data": {
      "image/png": "[encoded data removed]",
      "text/plain": [
       "<matplotlib.figure.Figure at 0x113d61a90>"
      ]
     },
     "metadata": {},
     "output_type": "display_data"
    }
   ],
   "source": [
    "plt.figure(figsize=(4, 2.5))\n",
    "_ = plt.scatter(scores, influence, color='black', alpha=0.2, s=4)\n",
    "_ = plt.tight_layout()\n",
    "_ = plt.xlabel(\"Learning rate\")\n",
    "_ = plt.ylabel(\"Influence\")\n",
    "_ = plt.ylim(0, 1.2)"
   ]
  },
  {
   "cell_type": "code",
   "execution_count": 13,
   "metadata": {
    "collapsed": false
   },
   "outputs": [
    {
     "data": {
      "image/png": "[encoded data removed]",
      "text/plain": [
       "<matplotlib.figure.Figure at 0x113d07588>"
      ]
     },
     "metadata": {},
     "output_type": "display_data"
    }
   ],
   "source": [
    "plt.figure(figsize=(4, 2.5))\n",
    "_ = plt.scatter(learning_rates, scores, color='black', alpha=0.2, s=20)\n",
    "_ = plt.tight_layout()\n",
    "_ = plt.xlabel(\"Learning rate\")\n",
    "_ = plt.ylabel(\"Score\")"
   ]
  },
  {
   "cell_type": "code",
   "execution_count": 16,
   "metadata": {
    "collapsed": false
   },
   "outputs": [],
   "source": [
    "num_stumbles = [row[2] for row in table]"
   ]
  },
  {
   "cell_type": "code",
   "execution_count": null,
   "metadata": {
    "collapsed": false
   },
   "outputs": [],
   "source": [
    "plt.figure(figsize=(4, 2.5))\n",
    "_ = plt.scatter(num_stumbles, influence, color='black', alpha=0.2, s=20)\n",
    "_ = plt.tight_layout()\n",
    "_ = plt.xlabel(\"Num. stumbles\")\n",
    "_ = plt.ylabel(\"Influence\")\n",
    "_ = plt.ylim(0, 1)"
   ]
  },
  {
   "cell_type": "code",
   "execution_count": null,
   "metadata": {
    "collapsed": false
   },
   "outputs": [],
   "source": [
    "plt.figure(figsize=(4, 2.5))\n",
    "_ = plt.scatter(num_stumbles, scores, color='black', alpha=0.2, s=20)\n",
    "_ = plt.tight_layout()\n",
    "_ = plt.xlabel(\"Num. stumbles\")\n",
    "_ = plt.ylabel(\"Score\")"
   ]
  },
  {
   "cell_type": "code",
   "execution_count": null,
   "metadata": {
    "collapsed": true
   },
   "outputs": [],
   "source": [
    "num_strategies = [row[3] for row in table]"
   ]
  },
  {
   "cell_type": "code",
   "execution_count": null,
   "metadata": {
    "collapsed": false
   },
   "outputs": [],
   "source": [
    "plt.figure(figsize=(4, 2.5))\n",
    "_ = plt.scatter(num_strategies, influence, color='black', alpha=0.2, s=20)\n",
    "_ = plt.tight_layout()\n",
    "_ = plt.xlabel(\"Num. strategies\")\n",
    "_ = plt.ylabel(\"Influence\")\n",
    "_ = plt.ylim(0, 1.2)"
   ]
  },
  {
   "cell_type": "code",
   "execution_count": null,
   "metadata": {
    "collapsed": false
   },
   "outputs": [],
   "source": [
    "plt.figure(figsize=(4, 2.5))\n",
    "_ = plt.scatter(num_strategies, scores, color='black', alpha=0.2, s=20)\n",
    "_ = plt.tight_layout()\n",
    "_ = plt.xlabel(\"Num. strategies\")\n",
    "_ = plt.ylabel(\"Score\")\n",
    "_ = plt.ylim(0, 1.2)"
   ]
  },
  {
   "cell_type": "code",
   "execution_count": null,
   "metadata": {
    "collapsed": true
   },
   "outputs": [],
   "source": []
  }
 ],
 "metadata": {
  "kernelspec": {
   "display_name": "Python 3",
   "language": "python",
   "name": "python3"
  },
  "language_info": {
   "codemirror_mode": {
    "name": "ipython",
    "version": 3
   },
   "file_extension": ".py",
   "mimetype": "text/x-python",
   "name": "python",
   "nbconvert_exporter": "python",
   "pygments_lexer": "ipython3",
   "version": "3.6.0"
  }
 },
 "nbformat": 4,
 "nbformat_minor": 2
}
