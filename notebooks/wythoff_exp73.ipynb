{
 "cells": [
  {
   "cell_type": "markdown",
   "metadata": {},
   "source": [
    "# Analysis - exp73\n",
    "\n",
    "- DQN runs for BNBDT rev 2\n",
    "- These are top-1 runs for the `(s,a) -> v` representation.\n",
    "- The one-hot/conv can be found in the `exp63` notebook."
   ]
  },
  {
   "cell_type": "code",
   "execution_count": null,
   "metadata": {},
   "outputs": [],
   "source": [
    "import os\n",
    "import csv\n",
    "import numpy as np\n",
    "import torch as th\n",
    "\n",
    "from glob import glob\n",
    "from pprint import pprint\n",
    "\n",
    "import matplotlib\n",
    "import matplotlib.pyplot as plt\n",
    "\n",
    "%matplotlib inline\n",
    "%config InlineBackend.figure_format = 'retina'\n",
    "\n",
    "import seaborn as sns\n",
    "sns.set(font_scale=1.5)\n",
    "sns.set_style('ticks')\n",
    "\n",
    "matplotlib.rcParams.update({'font.size': 16})\n",
    "matplotlib.rc('axes', titlesize=16)\n",
    "\n",
    "from notebook_helpers import load_params\n",
    "from notebook_helpers import load_monitored\n",
    "from notebook_helpers import join_monitored\n",
    "from notebook_helpers import score_summary\n",
    "\n",
    "def load_data(path, model, run_index=(0, 20)):\n",
    "    runs = range(run_index[0], run_index[1]+1)\n",
    "    exps = []\n",
    "    for r in runs:\n",
    "        file = os.path.join(path, f\"run_{model}_{int(r)}_monitor.csv\")\n",
    "        try:\n",
    "            mon = load_monitored(file)\n",
    "        except FileNotFoundError:\n",
    "            mon = None\n",
    "        exps.append(mon)\n",
    "    return exps"
   ]
  },
  {
   "cell_type": "markdown",
   "metadata": {},
   "source": [
    "# Load data\n",
    "\n",
    "## Learning data"
   ]
  },
  {
   "cell_type": "code",
   "execution_count": null,
   "metadata": {},
   "outputs": [],
   "source": [
    "path = \"/Users/qualia/Code/azad/data/wythoff/exp73/\"\n",
    "data = {}\n",
    "models = [\"DQN_xy1\", \n",
    "          \"DQN_xy2\", \n",
    "          \"DQN_xy3\", \n",
    "          \"DQN_xy4\", \n",
    "          \"DQN_xy5\",  \n",
    "          \"DQN_optuna\"]\n",
    "for model in models:\n",
    "    data[model] = load_data(path, model, run_index=(2, 21))"
   ]
  },
  {
   "cell_type": "code",
   "execution_count": null,
   "metadata": {},
   "outputs": [],
   "source": [
    "pprint(data[models[0]][0].keys())"
   ]
  },
  {
   "cell_type": "markdown",
   "metadata": {},
   "source": [
    "## Plot scores for all. \n",
    "\n",
    "Look at the natural variations"
   ]
  },
  {
   "cell_type": "code",
   "execution_count": null,
   "metadata": {
    "scrolled": false
   },
   "outputs": [],
   "source": [
    "key = 'score'\n",
    "for model in models:\n",
    "    plt.figure(figsize=(5, 3))\n",
    "    for r, mon in enumerate(data[model]):\n",
    "        _ = plt.plot(mon['episode'], mon[key], color='black')\n",
    "#         _ = plt.ylim(0, 1)\n",
    "    _ = plt.ylabel(f\"{key}\")\n",
    "    _ = plt.tight_layout()\n",
    "    _ = plt.xlabel(\"Episode\")\n",
    "    _ = plt.title(model)"
   ]
  },
  {
   "cell_type": "markdown",
   "metadata": {},
   "source": [
    "- DQN sill quite poor. Network design is not playing a big role."
   ]
  },
  {
   "cell_type": "markdown",
   "metadata": {},
   "source": [
    "# Summarize \n",
    "\n",
    "What's it like as mean +/- sem"
   ]
  },
  {
   "cell_type": "code",
   "execution_count": null,
   "metadata": {},
   "outputs": [],
   "source": [
    "pprint(data[models[0]][0].keys())"
   ]
  },
  {
   "cell_type": "code",
   "execution_count": null,
   "metadata": {
    "scrolled": false
   },
   "outputs": [],
   "source": [
    "key = 'score'\n",
    "for model in models:\n",
    "    episodes, avg, sem = score_summary(data[model], key=key)\n",
    "    plt.figure(figsize=(5, 3))\n",
    "    _ = plt.plot(episodes, avg, linestyle=\"-\", color='black', alpha=1.0, linewidth=1)\n",
    "    _ = plt.fill_between(episodes, \n",
    "                           avg + 2*sem, \n",
    "                           avg - 2*sem,\n",
    "                           color='grey', alpha=0.3)\n",
    "    _ = sns.despine()\n",
    "    _ = plt.title(model)"
   ]
  }
 ],
 "metadata": {
  "kernelspec": {
   "display_name": "Python 3",
   "language": "python",
   "name": "python3"
  },
  "language_info": {
   "codemirror_mode": {
    "name": "ipython",
    "version": 3
   },
   "file_extension": ".py",
   "mimetype": "text/x-python",
   "name": "python",
   "nbconvert_exporter": "python",
   "pygments_lexer": "ipython3",
   "version": "3.6.7"
  }
 },
 "nbformat": 4,
 "nbformat_minor": 2
}
