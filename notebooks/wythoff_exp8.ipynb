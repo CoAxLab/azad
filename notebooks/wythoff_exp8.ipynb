{
 "cells": [
  {
   "cell_type": "markdown",
   "metadata": {},
   "source": [
    "# Analysis - exp8\n",
    "\n",
    "A wythoff stumbler-strategist hyper-parameter search. Tweaking the definition of Hot and Cold"
   ]
  },
  {
   "cell_type": "code",
   "execution_count": 1,
   "metadata": {
    "collapsed": true
   },
   "outputs": [],
   "source": [
    "import os\n",
    "import csv\n",
    "import numpy as np\n",
    "import torch as th\n",
    "\n",
    "from glob import glob\n",
    "from pprint import pprint\n",
    "\n",
    "import matplotlib.pyplot as plt\n",
    "%matplotlib inline"
   ]
  },
  {
   "cell_type": "code",
   "execution_count": 2,
   "metadata": {
    "collapsed": false
   },
   "outputs": [
    {
     "data": {
      "text/plain": [
       "['/Users/type/Code/azad/data/wythoff/exp8/run_0.pkl',\n",
       " '/Users/type/Code/azad/data/wythoff/exp8/run_1.pkl',\n",
       " '/Users/type/Code/azad/data/wythoff/exp8/run_10.pkl',\n",
       " '/Users/type/Code/azad/data/wythoff/exp8/run_11.pkl',\n",
       " '/Users/type/Code/azad/data/wythoff/exp8/run_12.pkl',\n",
       " '/Users/type/Code/azad/data/wythoff/exp8/run_13.pkl',\n",
       " '/Users/type/Code/azad/data/wythoff/exp8/run_14.pkl',\n",
       " '/Users/type/Code/azad/data/wythoff/exp8/run_15.pkl',\n",
       " '/Users/type/Code/azad/data/wythoff/exp8/run_16.pkl',\n",
       " '/Users/type/Code/azad/data/wythoff/exp8/run_17.pkl']"
      ]
     },
     "execution_count": 2,
     "metadata": {},
     "output_type": "execute_result"
    }
   ],
   "source": [
    "# Find the files\n",
    "path = \"/Users/type/Code/azad/data/wythoff/exp8/\"\n",
    "results_path = \"/Users/type/Code/azad/data/wythoff/\"\n",
    "\n",
    "files = sorted(glob(os.path.join(path, \"run_*\")))\n",
    "files[:10]"
   ]
  },
  {
   "cell_type": "code",
   "execution_count": 3,
   "metadata": {
    "collapsed": true
   },
   "outputs": [],
   "source": [
    "model = th.load(files[0])"
   ]
  },
  {
   "cell_type": "code",
   "execution_count": 4,
   "metadata": {
    "collapsed": false
   },
   "outputs": [
    {
     "data": {
      "text/plain": [
       "dict_keys(['episode', 'epsilon', 'anneal', 'gamma', 'num_episodes', 'num_stumbles', 'num_strategies', 'influence', 'stumbler_score', 'strategist_score', 'stumbler_game', 'strategist_game', 'cold_threshold', 'hot_threshold', 'learning_rate_stumbler', 'learning_rate_strategist', 'strategist_state_dict', 'stumbler_player_dict', 'stumbler_opponent_dict'])"
      ]
     },
     "execution_count": 4,
     "metadata": {},
     "output_type": "execute_result"
    }
   ],
   "source": [
    "model.keys()"
   ]
  },
  {
   "cell_type": "code",
   "execution_count": 7,
   "metadata": {
    "collapsed": false
   },
   "outputs": [
    {
     "name": "stdout",
     "output_type": "stream",
     "text": [
      "[(0, 0.0, 0.0, 0.00020313262939453125, 1.0),\n",
      " (1, 0.11, 0.0, 0.00044345855712890625, 1.0),\n",
      " (10, 0.0, -0.11, 9.226799011230469e-05, 1.0)]\n"
     ]
    }
   ],
   "source": [
    "table = []\n",
    "for fi in files:\n",
    "    # Extract row_code\n",
    "    row_code = int(os.path.split(fi)[-1].split('_')[-1].split('.')[0])\n",
    "    \n",
    "    # load data\n",
    "    model = th.load(fi)\n",
    "    row = (\n",
    "        row_code, \n",
    "        model['hot_threshold'],\n",
    "        model['cold_threshold'],\n",
    "        model['strategist_score'],\n",
    "        model['influence']\n",
    "    )\n",
    "    table.append(row)\n",
    "    \n",
    "pprint(table[:3])"
   ]
  },
  {
   "cell_type": "code",
   "execution_count": 35,
   "metadata": {
    "collapsed": false
   },
   "outputs": [
    {
     "name": "stdout",
     "output_type": "stream",
     "text": [
      "[(70, 0.0, -0.77, 1.4901161193847656e-05, 0.975),\n",
      " (55, 0.55, -0.55, 3.838539123535156e-05, 1.0),\n",
      " (40, 0.0, -0.44, 4.220008850097656e-05, 1.0),\n",
      " (57, 0.77, -0.55, 4.863739013671875e-05, 1.0),\n",
      " (45, 0.55, -0.44, 6.23464584350586e-05, 1.0),\n",
      " (42, 0.22, -0.44, 8.022785186767578e-05, 1.0),\n",
      " (80, 0.0, -0.88, 8.779764175415039e-05, 1.0),\n",
      " (10, 0.0, -0.11, 9.226799011230469e-05, 1.0),\n",
      " (71, 0.11, -0.77, 9.441375732421875e-05, 1.0),\n",
      " (15, 0.55, -0.11, 9.614229202270508e-05, 1.0),\n",
      " (5, 0.55, 0.0, 0.00013267993927001953, 1.0),\n",
      " (66, 0.66, -0.66, 0.00014990568161010742, 1.0),\n",
      " (27, 0.77, -0.22, 0.0001901388168334961, 1.0),\n",
      " (0, 0.0, 0.0, 0.00020313262939453125, 1.0),\n",
      " (87, 0.77, -0.88, 0.00021147727966308594, 1.0),\n",
      " (65, 0.55, -0.66, 0.00023943185806274414, 1.0),\n",
      " (18, 0.88, -0.11, 0.00027763843536376953, 0.975),\n",
      " (44, 0.44, -0.44, 0.00030538439750671387, 1.0),\n",
      " (16, 0.66, -0.11, 0.0003164708614349365, 1.0),\n",
      " (58, 0.88, -0.55, 0.00032770633697509766, 1.0)]\n"
     ]
    }
   ],
   "source": [
    "# Sort by score\n",
    "def get_score(row):\n",
    "    return row[-2]\n",
    "\n",
    "table = sorted(table, key=get_score, reverse=False)\n",
    "pprint(table[:20])"
   ]
  },
  {
   "cell_type": "code",
   "execution_count": 10,
   "metadata": {
    "collapsed": true
   },
   "outputs": [],
   "source": [
    "# Save the sorted results table\n",
    "f_name = os.path.join(results_path, \"exp8_ranked.csv\")\n",
    "head = (\n",
    "    \"row_code\", \n",
    "    'hot_threshold',\n",
    "    'cold_threshold',\n",
    "    'strategist_score',\n",
    "    'influence'\n",
    ")\n",
    "\n",
    "with open(f_name, \"w\") as csv_file:\n",
    "    writer = csv.writer(csv_file, delimiter=',')\n",
    "    writer.writerow(head)\n",
    "    \n",
    "    for row in table:\n",
    "        writer.writerow(row)"
   ]
  },
  {
   "cell_type": "markdown",
   "metadata": {},
   "source": [
    "# Plots"
   ]
  },
  {
   "cell_type": "markdown",
   "metadata": {},
   "source": [
    "## Score distributions"
   ]
  },
  {
   "cell_type": "code",
   "execution_count": 14,
   "metadata": {
    "collapsed": false
   },
   "outputs": [
    {
     "data": {
      "image/png": "[encoded data removed]",
      "text/plain": [
       "<matplotlib.figure.Figure at 0x113d33fd0>"
      ]
     },
     "metadata": {},
     "output_type": "display_data"
    }
   ],
   "source": [
    "influence = [row[-1] for row in table]\n",
    "\n",
    "plt.figure(figsize=(3, 2))\n",
    "_ = plt.hist(influence, color='black', bins=45)\n",
    "_ = plt.tight_layout()\n",
    "_ = plt.ylabel(\"Counts\")\n",
    "_ = plt.xlabel(\"Influence\")"
   ]
  },
  {
   "cell_type": "code",
   "execution_count": 15,
   "metadata": {
    "collapsed": false
   },
   "outputs": [
    {
     "data": {
      "image/png": "[encoded data removed]",
      "text/plain": [
       "<matplotlib.figure.Figure at 0x111ec7438>"
      ]
     },
     "metadata": {},
     "output_type": "display_data"
    }
   ],
   "source": [
    "scores = [row[-2] for row in table]\n",
    "\n",
    "plt.figure(figsize=(3, 2))\n",
    "_ = plt.hist(scores, color='black', bins=45)\n",
    "_ = plt.tight_layout()\n",
    "_ = plt.ylabel(\"Counts\")\n",
    "_ = plt.xlabel(\"Strategist score\")"
   ]
  },
  {
   "cell_type": "markdown",
   "metadata": {},
   "source": [
    "## Strategist as a function of other parameters"
   ]
  },
  {
   "cell_type": "code",
   "execution_count": 17,
   "metadata": {
    "collapsed": true
   },
   "outputs": [],
   "source": [
    "hot_thresholds = [row[1] for row in table]"
   ]
  },
  {
   "cell_type": "code",
   "execution_count": 33,
   "metadata": {
    "collapsed": false
   },
   "outputs": [
    {
     "data": {
      "image/png": "[encoded data removed]",
      "text/plain": [
       "<matplotlib.figure.Figure at 0x113dc88d0>"
      ]
     },
     "metadata": {},
     "output_type": "display_data"
    }
   ],
   "source": [
    "plt.figure(figsize=(4, 2.5))\n",
    "_ = plt.scatter(hot_thresholds, scores, color='black', alpha=0.2, s=20)\n",
    "_ = plt.tight_layout()\n",
    "_ = plt.xlabel(\"Hot threshold\")\n",
    "_ = plt.ylabel(\"Score\")"
   ]
  },
  {
   "cell_type": "code",
   "execution_count": 32,
   "metadata": {
    "collapsed": false
   },
   "outputs": [
    {
     "data": {
      "image/png": "[encoded data removed]",
      "text/plain": [
       "<matplotlib.figure.Figure at 0x114d80d68>"
      ]
     },
     "metadata": {},
     "output_type": "display_data"
    }
   ],
   "source": [
    "plt.figure(figsize=(4, 2.5))\n",
    "_ = plt.scatter(hot_thresholds, influence, color='black', alpha=0.2, s=20)\n",
    "_ = plt.tight_layout()\n",
    "_ = plt.xlabel(\"Hot threshold\")\n",
    "_ = plt.ylabel(\"Influence\")"
   ]
  },
  {
   "cell_type": "code",
   "execution_count": 21,
   "metadata": {
    "collapsed": false
   },
   "outputs": [],
   "source": [
    "cold_thresholds = [row[2] for row in table]"
   ]
  },
  {
   "cell_type": "code",
   "execution_count": 31,
   "metadata": {
    "collapsed": false
   },
   "outputs": [
    {
     "data": {
      "image/png": "[encoded data removed]",
      "text/plain": [
       "<matplotlib.figure.Figure at 0x113c9f400>"
      ]
     },
     "metadata": {},
     "output_type": "display_data"
    }
   ],
   "source": [
    "plt.figure(figsize=(4, 2.5))\n",
    "_ = plt.scatter(cold_thresholds, scores, color='black', alpha=0.2, s=20)\n",
    "_ = plt.tight_layout()\n",
    "_ = plt.xlabel(\"Cold threshold\")\n",
    "_ = plt.ylabel(\"Score\")"
   ]
  },
  {
   "cell_type": "code",
   "execution_count": 30,
   "metadata": {
    "collapsed": false
   },
   "outputs": [
    {
     "data": {
      "image/png": "[encoded data removed]",
      "text/plain": [
       "<matplotlib.figure.Figure at 0x113d83780>"
      ]
     },
     "metadata": {},
     "output_type": "display_data"
    }
   ],
   "source": [
    "plt.figure(figsize=(4, 2.5))\n",
    "_ = plt.scatter(cold_thresholds, influence, color='black', alpha=0.2, s=20)\n",
    "_ = plt.tight_layout()\n",
    "_ = plt.xlabel(\"Cold threshold\")\n",
    "_ = plt.ylabel(\"Influence\")"
   ]
  },
  {
   "cell_type": "code",
   "execution_count": null,
   "metadata": {
    "collapsed": true
   },
   "outputs": [],
   "source": []
  }
 ],
 "metadata": {
  "kernelspec": {
   "display_name": "Python 3",
   "language": "python",
   "name": "python3"
  },
  "language_info": {
   "codemirror_mode": {
    "name": "ipython",
    "version": 3
   },
   "file_extension": ".py",
   "mimetype": "text/x-python",
   "name": "python",
   "nbconvert_exporter": "python",
   "pygments_lexer": "ipython3",
   "version": "3.6.0"
  }
 },
 "nbformat": 4,
 "nbformat_minor": 2
}
