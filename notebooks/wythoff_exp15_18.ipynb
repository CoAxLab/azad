{
 "cells": [
  {
   "cell_type": "markdown",
   "metadata": {},
   "source": [
    "# Analysis - exp15-18\n",
    "\n",
    "- Exploring different heuristics with the stumbler-strategist (15-17)\n",
    "- Examine an the effect of perfect strategist on a naive stumbler (18)"
   ]
  },
  {
   "cell_type": "code",
   "execution_count": 18,
   "metadata": {
    "collapsed": false
   },
   "outputs": [],
   "source": [
    "import os\n",
    "import csv\n",
    "import numpy as np\n",
    "import torch as th\n",
    "\n",
    "from glob import glob\n",
    "from pprint import pprint\n",
    "\n",
    "import matplotlib.pyplot as plt\n",
    "%matplotlib inline\n",
    "%config InlineBackend.figure_format = 'retina'\n",
    "\n",
    "from notebook_helpers import load_monitored\n",
    "from notebook_helpers import join_monitored"
   ]
  },
  {
   "cell_type": "markdown",
   "metadata": {
    "collapsed": false
   },
   "source": [
    "# Find the files\n",
    "## Exp 14 - used for comparison"
   ]
  },
  {
   "cell_type": "code",
   "execution_count": 3,
   "metadata": {
    "collapsed": false
   },
   "outputs": [],
   "source": [
    "path = \"/Users/type/Code/azad/data/wythoff/exp14/\"\n",
    "\n",
    "exp_14 = []\n",
    "runs = range(1, 21)\n",
    "for r in runs:\n",
    "    files = sorted(glob(os.path.join(path, \n",
    "        \"run_2_episode*_stumbler*\".format(int(r)))))\n",
    "    \n",
    "    mon = join_monitored(files, sort_key='episode')\n",
    "    exp_14.append(mon)"
   ]
  },
  {
   "cell_type": "code",
   "execution_count": 5,
   "metadata": {
    "collapsed": false
   },
   "outputs": [
    {
     "name": "stdout",
     "output_type": "stream",
     "text": [
      "dict_keys(['file', 'episode', 'loss', 'score', 'total_reward'])\n"
     ]
    }
   ],
   "source": [
    "pprint(exp_14[0].keys())"
   ]
  },
  {
   "cell_type": "markdown",
   "metadata": {},
   "source": [
    "## Exp15"
   ]
  },
  {
   "cell_type": "code",
   "execution_count": 12,
   "metadata": {
    "collapsed": true
   },
   "outputs": [],
   "source": [
    "path = \"/Users/type/Code/azad/data/wythoff/exp15/\"\n",
    "\n",
    "exp_15 = []\n",
    "runs = range(1, 21)\n",
    "for r in runs:\n",
    "    files = sorted(glob(os.path.join(path, \n",
    "        \"run_2_episode*_stumbler*\".format(int(r)))))\n",
    "    \n",
    "    mon = join_monitored(files, sort_key='episode')\n",
    "    exp_15.append(mon)"
   ]
  },
  {
   "cell_type": "markdown",
   "metadata": {},
   "source": [
    "## Exp 16"
   ]
  },
  {
   "cell_type": "code",
   "execution_count": 14,
   "metadata": {
    "collapsed": true
   },
   "outputs": [],
   "source": [
    "path = \"/Users/type/Code/azad/data/wythoff/exp16/\"\n",
    "\n",
    "exp_16 = []\n",
    "runs = range(1, 21)\n",
    "for r in runs:\n",
    "    files = sorted(glob(os.path.join(path, \n",
    "        \"run_2_episode*_stumbler*\".format(int(r)))))\n",
    "    \n",
    "    mon = join_monitored(files, sort_key='episode')\n",
    "    exp_16.append(mon)"
   ]
  },
  {
   "cell_type": "markdown",
   "metadata": {},
   "source": [
    "## Exp 17"
   ]
  },
  {
   "cell_type": "code",
   "execution_count": 9,
   "metadata": {
    "collapsed": true
   },
   "outputs": [],
   "source": [
    "path = \"/Users/type/Code/azad/data/wythoff/exp17/\"\n",
    "\n",
    "exp_17 = []\n",
    "runs = range(1, 21)\n",
    "for r in runs:\n",
    "    files = sorted(glob(os.path.join(path, \n",
    "        \"run_2_episode*_stumbler*\".format(int(r)))))\n",
    "    \n",
    "    mon = join_monitored(files, sort_key='episode')\n",
    "    exp_17.append(mon)"
   ]
  },
  {
   "cell_type": "markdown",
   "metadata": {},
   "source": [
    "## Exp 18"
   ]
  },
  {
   "cell_type": "code",
   "execution_count": 10,
   "metadata": {
    "collapsed": true
   },
   "outputs": [],
   "source": [
    "path = \"/Users/type/Code/azad/data/wythoff/exp18/\"\n",
    "\n",
    "exp_18 = []\n",
    "runs = range(1, 21)\n",
    "for r in runs:\n",
    "    files = sorted(glob(os.path.join(path, \n",
    "        \"run_2_episode*_stumbler*\".format(int(r)))))\n",
    "    \n",
    "    mon = join_monitored(files, sort_key='episode')\n",
    "    exp_18.append(mon)"
   ]
  },
  {
   "cell_type": "markdown",
   "metadata": {},
   "source": [
    "# Plots"
   ]
  },
  {
   "cell_type": "markdown",
   "metadata": {},
   "source": [
    "## Variations on V(s) projection"
   ]
  },
  {
   "cell_type": "code",
   "execution_count": 21,
   "metadata": {
    "collapsed": false
   },
   "outputs": [
    {
     "data": {
      "image/png": "[encoded data removed]",
      "text/plain": [
       "<matplotlib.figure.Figure at 0x117fb38d0>"
      ]
     },
     "metadata": {
      "image/png": {
       "height": 256,
       "width": 508
      }
     },
     "output_type": "display_data"
    }
   ],
   "source": [
    "plt.figure(figsize=(7, 3.5))\n",
    "\n",
    "for n, mon in enumerate(exp_14):\n",
    "    # Only want one legend entry\n",
    "    lab = None\n",
    "    if n == 0:\n",
    "        lab = \"HC\"\n",
    "    \n",
    "    # Plot\n",
    "    _ = plt.plot(mon['episode'], mon['score'], \n",
    "                    linestyle=\"--\", color='grey', alpha=1, label=lab)\n",
    "\n",
    "for n, mon in enumerate(exp_15):\n",
    "    # Only want one legend entry\n",
    "    lab = None\n",
    "    if n == 0:\n",
    "        lab = \"H\"\n",
    "    \n",
    "    # Plot\n",
    "    _ = plt.plot(mon['episode'], mon['score'], \n",
    "                    color='red', alpha=1, label=lab)\n",
    "\n",
    "\n",
    "for n, mon in enumerate(exp_16):\n",
    "    # Only want one legend entry\n",
    "    lab = None\n",
    "    if n == 0:\n",
    "        lab = \"C\"\n",
    "    \n",
    "    # Plot\n",
    "    _ = plt.plot(mon['episode'], mon['score'], \n",
    "                    color='blue', alpha=1, label=lab)\n",
    "\n",
    "\n",
    "for n, mon in enumerate(exp_17):\n",
    "    # Only want one legend entry\n",
    "    lab = None\n",
    "    if n == 0:\n",
    "        lab = \"HC-\"\n",
    "    \n",
    "    # Plot\n",
    "    _ = plt.plot(mon['episode'], mon['score'], \n",
    "                    color='purple', alpha=1, label=lab)\n",
    "\n",
    "_ = plt.tight_layout()\n",
    "_ = plt.legend()\n",
    "_ = plt.xlabel(\"Episode\")\n",
    "_ = plt.ylabel(\"Optimal play score\")"
   ]
  },
  {
   "cell_type": "markdown",
   "metadata": {
    "collapsed": true
   },
   "source": [
    "## Perfect strategy"
   ]
  },
  {
   "cell_type": "code",
   "execution_count": 36,
   "metadata": {
    "collapsed": false
   },
   "outputs": [
    {
     "data": {
      "image/png": "[encoded data removed]",
      "text/plain": [
       "<matplotlib.figure.Figure at 0x1152dd588>"
      ]
     },
     "metadata": {
      "image/png": {
       "height": 220,
       "width": 364
      }
     },
     "output_type": "display_data"
    }
   ],
   "source": [
    "plt.figure(figsize=(5, 3))\n",
    "\n",
    "for n, mon in enumerate(exp_14):\n",
    "    # Only want one legend entry\n",
    "    lab = None\n",
    "    if n == 0:\n",
    "        lab = \"HC\"\n",
    "    \n",
    "    # Plot\n",
    "    _ = plt.plot(mon['episode'], mon['score'], \n",
    "                    linestyle=\"--\", color='grey', alpha=1, label=lab)\n",
    "\n",
    "for n, mon in enumerate(exp_18):\n",
    "    # Only want one legend entry\n",
    "    lab = None\n",
    "    if n == 0:\n",
    "        lab = \"'Perfect'\"\n",
    "    \n",
    "    # Plot\n",
    "    _ = plt.plot(mon['episode'], mon['score'], \n",
    "                    color='green', alpha=1, label=lab)\n",
    "  \n",
    "_ = plt.tight_layout()\n",
    "_ = plt.legend()\n",
    "_ = plt.xlabel(\"Episode\")\n",
    "_ = plt.ylabel(\"Optimal play score\")"
   ]
  },
  {
   "cell_type": "code",
   "execution_count": null,
   "metadata": {
    "collapsed": true
   },
   "outputs": [],
   "source": []
  }
 ],
 "metadata": {
  "kernelspec": {
   "display_name": "Python 3",
   "language": "python",
   "name": "python3"
  },
  "language_info": {
   "codemirror_mode": {
    "name": "ipython",
    "version": 3
   },
   "file_extension": ".py",
   "mimetype": "text/x-python",
   "name": "python",
   "nbconvert_exporter": "python",
   "pygments_lexer": "ipython3",
   "version": "3.6.0"
  }
 },
 "nbformat": 4,
 "nbformat_minor": 2
}
