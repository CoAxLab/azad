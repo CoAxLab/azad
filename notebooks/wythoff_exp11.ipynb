{
 "cells": [
  {
   "cell_type": "markdown",
   "metadata": {},
   "source": [
    "# Analysis - exp11\n",
    "\n",
    "A wythoff stumbler-strategist hyper-parameter search. Influence rate."
   ]
  },
  {
   "cell_type": "code",
   "execution_count": 1,
   "metadata": {
    "collapsed": true
   },
   "outputs": [],
   "source": [
    "import os\n",
    "import csv\n",
    "import numpy as np\n",
    "import torch as th\n",
    "\n",
    "from glob import glob\n",
    "from pprint import pprint\n",
    "\n",
    "import matplotlib.pyplot as plt\n",
    "%matplotlib inline"
   ]
  },
  {
   "cell_type": "code",
   "execution_count": 2,
   "metadata": {
    "collapsed": false
   },
   "outputs": [
    {
     "data": {
      "text/plain": [
       "['/Users/type/Code/azad/data/wythoff/exp11/run_0.pytorch',\n",
       " '/Users/type/Code/azad/data/wythoff/exp11/run_1.pytorch',\n",
       " '/Users/type/Code/azad/data/wythoff/exp11/run_10.pytorch',\n",
       " '/Users/type/Code/azad/data/wythoff/exp11/run_11.pytorch',\n",
       " '/Users/type/Code/azad/data/wythoff/exp11/run_12.pytorch',\n",
       " '/Users/type/Code/azad/data/wythoff/exp11/run_13.pytorch',\n",
       " '/Users/type/Code/azad/data/wythoff/exp11/run_14.pytorch',\n",
       " '/Users/type/Code/azad/data/wythoff/exp11/run_15.pytorch',\n",
       " '/Users/type/Code/azad/data/wythoff/exp11/run_16.pytorch',\n",
       " '/Users/type/Code/azad/data/wythoff/exp11/run_17.pytorch']"
      ]
     },
     "execution_count": 2,
     "metadata": {},
     "output_type": "execute_result"
    }
   ],
   "source": [
    "# Find the files\n",
    "path = \"/Users/type/Code/azad/data/wythoff/exp11/\"\n",
    "results_path = \"/Users/type/Code/azad/data/wythoff/\"\n",
    "\n",
    "files = sorted(glob(os.path.join(path, \"run_*\")))\n",
    "files[:10]"
   ]
  },
  {
   "cell_type": "code",
   "execution_count": 3,
   "metadata": {
    "collapsed": true
   },
   "outputs": [],
   "source": [
    "model = th.load(files[0])"
   ]
  },
  {
   "cell_type": "code",
   "execution_count": 4,
   "metadata": {
    "collapsed": false
   },
   "outputs": [
    {
     "data": {
      "text/plain": [
       "dict_keys(['episode', 'epsilon', 'anneal', 'gamma', 'num_episodes', 'num_stumbles', 'num_strategies', 'influence', 'stumbler_score', 'strategist_score', 'stumbler_game', 'strategist_game', 'cold_threshold', 'hot_threshold', 'learning_rate_stumbler', 'learning_rate_strategist', 'learning_rate_influence', 'strategist_state_dict', 'stumbler_player_dict', 'stumbler_opponent_dict'])"
      ]
     },
     "execution_count": 4,
     "metadata": {},
     "output_type": "execute_result"
    }
   ],
   "source": [
    "model.keys()"
   ]
  },
  {
   "cell_type": "code",
   "execution_count": 5,
   "metadata": {
    "collapsed": false
   },
   "outputs": [
    {
     "name": "stdout",
     "output_type": "stream",
     "text": [
      "[(0, 0.01, 0.7073010337100462, 0.011347174644470215, 0.7900000000000005),\n",
      " (1, 0.062105, 0.8836515010022391, 0.01641702651977539, 1.0),\n",
      " (10, 0.531053, 0.778611504135892, 0.0024625062942504883, 1.0)]\n"
     ]
    }
   ],
   "source": [
    "table = []\n",
    "for fi in files:\n",
    "    # Extract row_code\n",
    "    row_code = int(os.path.split(fi)[-1].split('_')[-1].split('.')[0])\n",
    "    \n",
    "    # load data\n",
    "    model = th.load(fi)\n",
    "    row = (\n",
    "        row_code, \n",
    "        model['learning_rate_influence'],\n",
    "        model['stumbler_score'],\n",
    "        model['strategist_score'],\n",
    "        model['influence']\n",
    "    )\n",
    "    table.append(row)\n",
    "    \n",
    "pprint(table[:3])"
   ]
  },
  {
   "cell_type": "code",
   "execution_count": 12,
   "metadata": {
    "collapsed": false
   },
   "outputs": [
    {
     "name": "stdout",
     "output_type": "stream",
     "text": [
      "[(1, 0.062105, 0.8836515010022391, 0.01641702651977539, 1.0),\n",
      " (19, 1.0, 0.8807677891783309, 0.00012737512588500977, 0.0),\n",
      " (9, 0.478947, 0.8721385067931943, 0.028239965438842773, 1.0),\n",
      " (12, 0.635263, 0.86587674755112, 0.0004697442054748535, 1.0),\n",
      " (16, 0.843684, 0.851962286451355, 0.00020170211791992188, 0.156316),\n",
      " (3, 0.166316, 0.8507089238471933, 2.5153160095214844e-05, 0.833684),\n",
      " (6, 0.322632, 0.8498931052975496, 0.002342700958251953, 1.0),\n",
      " (4, 0.218421, 0.8422748175219115, 0.00018525123596191406, 1.0),\n",
      " (11, 0.583158, 0.8318838753075734, 0.008540868759155273, 0.41684200000000005),\n",
      " (13, 0.687368, 0.828213909260927, 0.0015445947647094727, 1.0),\n",
      " (8, 0.426842, 0.8256993691351097, 0.0012285113334655762, 1.0),\n",
      " (5, 0.270526, 0.8155468111463187, 0.00016307830810546875, 1.0),\n",
      " (10, 0.531053, 0.778611504135892, 0.0024625062942504883, 1.0),\n",
      " (2, 0.114211, 0.7722474844966473, 0.08305537700653076, 1.0),\n",
      " (17, 0.895789, 0.7478370663320324, 0.03978586196899414, 1.0),\n",
      " (15, 0.791579, 0.7172594313484798, 0.00018787384033203125, 1.0),\n",
      " (14, 0.739474, 0.7157724269375586, 0.05796170234680176, 1.0),\n",
      " (0, 0.01, 0.7073010337100462, 0.011347174644470215, 0.7900000000000005),\n",
      " (7, 0.374737, 0.6834783074977456, 0.025286436080932617, 1.0),\n",
      " (18, 0.947895, 0.5752894931670464, 0.0819646418094635, 1.0)]\n"
     ]
    }
   ],
   "source": [
    "# Sort by score\n",
    "def get_score(row):\n",
    "    return row[2]\n",
    "\n",
    "table = sorted(table, key=get_score, reverse=True)\n",
    "pprint(table[:20])"
   ]
  },
  {
   "cell_type": "code",
   "execution_count": 18,
   "metadata": {
    "collapsed": true
   },
   "outputs": [],
   "source": [
    "# Save the sorted results table\n",
    "f_name = os.path.join(results_path, \"exp11_ranked.csv\")\n",
    "head = (\n",
    "    'learning_rate',\n",
    "    \"row_code\", \n",
    "    'stumbler_score',\n",
    "    'strategist_score',\n",
    "    'influence'\n",
    ")\n",
    "\n",
    "with open(f_name, \"w\") as csv_file:\n",
    "    writer = csv.writer(csv_file, delimiter=',')\n",
    "    writer.writerow(head)\n",
    "    \n",
    "    for row in table:\n",
    "        writer.writerow(row)"
   ]
  },
  {
   "cell_type": "markdown",
   "metadata": {},
   "source": [
    "# Plots"
   ]
  },
  {
   "cell_type": "markdown",
   "metadata": {},
   "source": [
    "## Score distributions"
   ]
  },
  {
   "cell_type": "code",
   "execution_count": 23,
   "metadata": {
    "collapsed": false
   },
   "outputs": [
    {
     "data": {
      "image/png": "[encoded data removed]",
      "text/plain": [
       "<matplotlib.figure.Figure at 0x114fb8a90>"
      ]
     },
     "metadata": {},
     "output_type": "display_data"
    }
   ],
   "source": [
    "stumbler_score = [row[2] for row in table]\n",
    "\n",
    "plt.figure(figsize=(3, 2))\n",
    "_ = plt.hist(stumbler_score, color='black', bins=10)\n",
    "_ = plt.tight_layout()\n",
    "_ = plt.ylabel(\"Counts\")\n",
    "_ = plt.xlabel(\"Stumbler score\")"
   ]
  },
  {
   "cell_type": "code",
   "execution_count": 43,
   "metadata": {
    "collapsed": false
   },
   "outputs": [
    {
     "data": {
      "image/png": "[encoded data removed]",
      "text/plain": [
       "<matplotlib.figure.Figure at 0x116597240>"
      ]
     },
     "metadata": {},
     "output_type": "display_data"
    }
   ],
   "source": [
    "influence = [row[4] for row in table]\n",
    "strategist_score = [row[3] for row in table]\n",
    "\n",
    "plt.figure(figsize=(3, 2))\n",
    "_ = plt.hist(scores, color='black', bins=45)\n",
    "_ = plt.tight_layout()\n",
    "_ = plt.ylabel(\"Counts\")\n",
    "_ = plt.xlabel(\"Influence\")"
   ]
  },
  {
   "cell_type": "markdown",
   "metadata": {},
   "source": [
    "## Strategist as a function of other parameters"
   ]
  },
  {
   "cell_type": "code",
   "execution_count": 24,
   "metadata": {
    "collapsed": true
   },
   "outputs": [],
   "source": [
    "learning_rate = [row[1] for row in table]"
   ]
  },
  {
   "cell_type": "code",
   "execution_count": 39,
   "metadata": {
    "collapsed": false
   },
   "outputs": [
    {
     "data": {
      "image/png": "[encoded data removed]",
      "text/plain": [
       "<matplotlib.figure.Figure at 0x1147161d0>"
      ]
     },
     "metadata": {},
     "output_type": "display_data"
    }
   ],
   "source": [
    "plt.figure(figsize=(4, 2.5))\n",
    "_ = plt.scatter(learning_rate, stumbler_score, color='black', alpha=0.2, s=20)\n",
    "_ = plt.tight_layout()\n",
    "_ = plt.xlabel(\"Learning rate\")\n",
    "_ = plt.ylabel(\"Stumbler score\")\n",
    "_ = plt.ylim(0, 1)"
   ]
  },
  {
   "cell_type": "code",
   "execution_count": 48,
   "metadata": {
    "collapsed": false
   },
   "outputs": [
    {
     "data": {
      "image/png": "[encoded data removed]",
      "text/plain": [
       "<matplotlib.figure.Figure at 0x114b1f2b0>"
      ]
     },
     "metadata": {},
     "output_type": "display_data"
    }
   ],
   "source": [
    "plt.figure(figsize=(4, 2.5))\n",
    "_ = plt.scatter(learning_rate, strategist_score, color='black', alpha=0.2, s=20)\n",
    "_ = plt.tight_layout()\n",
    "_ = plt.xlabel(\"Learning rate\")\n",
    "_ = plt.ylabel(\"Strategist score\")"
   ]
  },
  {
   "cell_type": "code",
   "execution_count": 49,
   "metadata": {
    "collapsed": false
   },
   "outputs": [
    {
     "data": {
      "image/png": "[encoded data removed]",
      "text/plain": [
       "<matplotlib.figure.Figure at 0x115b1ae10>"
      ]
     },
     "metadata": {},
     "output_type": "display_data"
    }
   ],
   "source": [
    "plt.figure(figsize=(4, 2.5))\n",
    "_ = plt.scatter(learning_rate, influence, color='black', alpha=0.2, s=20)\n",
    "_ = plt.tight_layout()\n",
    "_ = plt.xlabel(\"Learning rate\")\n",
    "_ = plt.ylabel(\"Influence\")"
   ]
  },
  {
   "cell_type": "code",
   "execution_count": 46,
   "metadata": {
    "collapsed": false
   },
   "outputs": [
    {
     "data": {
      "image/png": "[encoded data removed]",
      "text/plain": [
       "<matplotlib.figure.Figure at 0x1157c47f0>"
      ]
     },
     "metadata": {},
     "output_type": "display_data"
    }
   ],
   "source": [
    "plt.figure(figsize=(4, 2.5))\n",
    "_ = plt.scatter(strategist_score, influence, color='black', alpha=0.2, s=20)\n",
    "_ = plt.tight_layout()\n",
    "_ = plt.xlabel(\"Strategist score\")\n",
    "_ = plt.ylabel(\"Influence\")"
   ]
  },
  {
   "cell_type": "code",
   "execution_count": 51,
   "metadata": {
    "collapsed": false
   },
   "outputs": [
    {
     "data": {
      "image/png": "[encoded data removed]",
      "text/plain": [
       "<matplotlib.figure.Figure at 0x116477cc0>"
      ]
     },
     "metadata": {},
     "output_type": "display_data"
    }
   ],
   "source": [
    "plt.figure(figsize=(4, 2.5))\n",
    "_ = plt.scatter(stumbler_score, strategist_score, color='black', alpha=0.2, s=20)\n",
    "_ = plt.tight_layout()\n",
    "_ = plt.ylabel(\"Strategist score\")\n",
    "_ = plt.xlabel(\"Stumbler score\")"
   ]
  },
  {
   "cell_type": "code",
   "execution_count": null,
   "metadata": {
    "collapsed": true
   },
   "outputs": [],
   "source": []
  }
 ],
 "metadata": {
  "kernelspec": {
   "display_name": "Python 3",
   "language": "python",
   "name": "python3"
  },
  "language_info": {
   "codemirror_mode": {
    "name": "ipython",
    "version": 3
   },
   "file_extension": ".py",
   "mimetype": "text/x-python",
   "name": "python",
   "nbconvert_exporter": "python",
   "pygments_lexer": "ipython3",
   "version": "3.6.0"
  }
 },
 "nbformat": 4,
 "nbformat_minor": 2
}
